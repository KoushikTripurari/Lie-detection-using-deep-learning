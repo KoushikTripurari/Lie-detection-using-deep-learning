{
  "nbformat": 4,
  "nbformat_minor": 0,
  "metadata": {
    "colab": {
      "provenance": []
    },
    "kernelspec": {
      "name": "python3",
      "display_name": "Python 3"
    },
    "language_info": {
      "name": "python"
    }
  },
  "cells": [
    {
      "cell_type": "code",
      "execution_count": null,
      "metadata": {
        "colab": {
          "base_uri": "https://localhost:8080/"
        },
        "id": "avvhb0gcfSnx",
        "outputId": "6eb6f946-ad5b-4832-94c9-fc351e917384"
      },
      "outputs": [
        {
          "output_type": "stream",
          "name": "stdout",
          "text": [
            "Drive already mounted at /content/drive; to attempt to forcibly remount, call drive.mount(\"/content/drive\", force_remount=True).\n"
          ]
        }
      ],
      "source": [
        "from google.colab import drive\n",
        "drive.mount('/content/drive')\n"
      ]
    },
    {
      "cell_type": "code",
      "source": [],
      "metadata": {
        "id": "T1KxdtlRiH5N"
      },
      "execution_count": null,
      "outputs": []
    },
    {
      "cell_type": "code",
      "source": [
        "#### Extracting MFCC's For every audio file\n",
        "import pandas as pd\n",
        "import os\n",
        "import librosa\n",
        "import numpy as np\n",
        "from tqdm import tqdm\n"
      ],
      "metadata": {
        "id": "st-Fz7TciHlH"
      },
      "execution_count": null,
      "outputs": []
    },
    {
      "cell_type": "markdown",
      "source": [
        "#Audio Features Extract"
      ],
      "metadata": {
        "id": "vDR9guaEF64I"
      }
    },
    {
      "cell_type": "code",
      "source": [
        "!pip install resampy\n"
      ],
      "metadata": {
        "colab": {
          "base_uri": "https://localhost:8080/"
        },
        "id": "0bIP_k4Cskc3",
        "outputId": "742dbffb-e221-4452-bdf9-328bf9baa250"
      },
      "execution_count": null,
      "outputs": [
        {
          "output_type": "stream",
          "name": "stdout",
          "text": [
            "Looking in indexes: https://pypi.org/simple, https://us-python.pkg.dev/colab-wheels/public/simple/\n",
            "Collecting resampy\n",
            "  Downloading resampy-0.4.2-py3-none-any.whl (3.1 MB)\n",
            "\u001b[2K     \u001b[90m━━━━━━━━━━━━━━━━━━━━━━━━━━━━━━━━━━━━━━━━\u001b[0m \u001b[32m3.1/3.1 MB\u001b[0m \u001b[31m45.2 MB/s\u001b[0m eta \u001b[36m0:00:00\u001b[0m\n",
            "\u001b[?25hRequirement already satisfied: numba>=0.53 in /usr/local/lib/python3.9/dist-packages (from resampy) (0.56.4)\n",
            "Requirement already satisfied: numpy>=1.17 in /usr/local/lib/python3.9/dist-packages (from resampy) (1.22.4)\n",
            "Requirement already satisfied: setuptools in /usr/local/lib/python3.9/dist-packages (from numba>=0.53->resampy) (67.7.1)\n",
            "Requirement already satisfied: llvmlite<0.40,>=0.39.0dev0 in /usr/local/lib/python3.9/dist-packages (from numba>=0.53->resampy) (0.39.1)\n",
            "Installing collected packages: resampy\n",
            "Successfully installed resampy-0.4.2\n"
          ]
        }
      ]
    },
    {
      "cell_type": "code",
      "source": [
        "'''import resampy\n",
        "librosa_audio_data,librosa_sample_rate=librosa.load(i)'''\n"
      ],
      "metadata": {
        "id": "Jp5LBYUZstrf",
        "colab": {
          "base_uri": "https://localhost:8080/",
          "height": 35
        },
        "outputId": "bb86b57b-1cd2-4b23-a47b-9ba1881df5b4"
      },
      "execution_count": null,
      "outputs": [
        {
          "output_type": "execute_result",
          "data": {
            "text/plain": [
              "'import resampy\\nlibrosa_audio_data,librosa_sample_rate=librosa.load(i)'"
            ],
            "application/vnd.google.colaboratory.intrinsic+json": {
              "type": "string"
            }
          },
          "metadata": {},
          "execution_count": 20
        }
      ]
    },
    {
      "cell_type": "code",
      "source": [
        "'''audio, sample_rate = librosa.load('/content/drive/MyDrive/compressed/Copy of BF004_1PT.mp3') \n",
        "mfccs_features = librosa.feature.mfcc(y=audio, sr=sample_rate, n_mfcc=40)\n",
        "mfccs_scaled_features = np.mean(mfccs_features.T,axis=0)'''\n",
        "    "
      ],
      "metadata": {
        "id": "zDwduvFOtAse",
        "colab": {
          "base_uri": "https://localhost:8080/",
          "height": 52
        },
        "outputId": "a5b733c9-3c5a-4285-bd8e-2987f2185ef9"
      },
      "execution_count": null,
      "outputs": [
        {
          "output_type": "execute_result",
          "data": {
            "text/plain": [
              "\"audio, sample_rate = librosa.load('/content/drive/MyDrive/compressed/Copy of BF004_1PT.mp3') \\nmfccs_features = librosa.feature.mfcc(y=audio, sr=sample_rate, n_mfcc=40)\\nmfccs_scaled_features = np.mean(mfccs_features.T,axis=0)\""
            ],
            "application/vnd.google.colaboratory.intrinsic+json": {
              "type": "string"
            }
          },
          "metadata": {},
          "execution_count": 21
        }
      ]
    },
    {
      "cell_type": "code",
      "source": [
        "def features_extractor(file_name):\n",
        "    audio, sample_rate = librosa.load(file_name)\n",
        "    print(1) \n",
        "    mfccs_features = librosa.feature.mfcc(y=audio, sr=sample_rate, n_mfcc=40)\n",
        "    mfccs_scaled_features = np.mean(mfccs_features.T,axis=0)\n",
        "    \n",
        "    return mfccs_scaled_features"
      ],
      "metadata": {
        "id": "EciqpAP8fdQB"
      },
      "execution_count": null,
      "outputs": []
    },
    {
      "cell_type": "code",
      "source": [
        "audio_dataset_path=os.listdir('/content/drive/MyDrive/Audio_lie_detection')\n",
        "rooms=[]\n",
        "\n",
        "for room in audio_dataset_path:\n",
        "    rooms.append( str('/content/drive/MyDrive/Audio_lie_detection' + '/' +room) )\n",
        "    "
      ],
      "metadata": {
        "id": "aZbPlBQsoXeW"
      },
      "execution_count": null,
      "outputs": []
    },
    {
      "cell_type": "code",
      "source": [],
      "metadata": {
        "id": "JjKZjQybqy5w"
      },
      "execution_count": null,
      "outputs": []
    },
    {
      "cell_type": "code",
      "source": [
        "new_list = [file for file in rooms if not file.endswith('npy')]\n",
        "new_list\n",
        "extracted_features=[]\n",
        "labels=[]\n",
        "for i in range(len(new_list)):\n",
        "  print(i)\n",
        "  data=features_extractor(new_list[i])\n",
        "  labels=(new_list[i][-6]+new_list[i][-5])\n",
        "  extracted_features.append([data,labels])\n",
        "  "
      ],
      "metadata": {
        "colab": {
          "base_uri": "https://localhost:8080/"
        },
        "id": "RVaOL_IOqYVU",
        "outputId": "381bccae-70c0-4fc9-e864-f6564cbdcf30"
      },
      "execution_count": null,
      "outputs": [
        {
          "output_type": "stream",
          "name": "stdout",
          "text": [
            "0\n",
            "1\n",
            "1\n",
            "1\n",
            "2\n",
            "1\n",
            "3\n",
            "1\n",
            "4\n",
            "1\n",
            "5\n",
            "1\n",
            "6\n",
            "1\n",
            "7\n",
            "1\n",
            "8\n",
            "1\n",
            "9\n",
            "1\n",
            "10\n",
            "1\n",
            "11\n",
            "1\n",
            "12\n",
            "1\n",
            "13\n",
            "1\n",
            "14\n",
            "1\n",
            "15\n",
            "1\n",
            "16\n",
            "1\n",
            "17\n",
            "1\n",
            "18\n",
            "1\n",
            "19\n",
            "1\n",
            "20\n",
            "1\n",
            "21\n",
            "1\n",
            "22\n",
            "1\n",
            "23\n",
            "1\n",
            "24\n",
            "1\n",
            "25\n",
            "1\n",
            "26\n",
            "1\n",
            "27\n",
            "1\n",
            "28\n",
            "1\n",
            "29\n",
            "1\n",
            "30\n",
            "1\n",
            "31\n",
            "1\n",
            "32\n",
            "1\n",
            "33\n",
            "1\n",
            "34\n",
            "1\n",
            "35\n",
            "1\n",
            "36\n",
            "1\n",
            "37\n",
            "1\n",
            "38\n",
            "1\n",
            "39\n",
            "1\n",
            "40\n",
            "1\n",
            "41\n",
            "1\n",
            "42\n",
            "1\n",
            "43\n",
            "1\n",
            "44\n",
            "1\n",
            "45\n",
            "1\n",
            "46\n",
            "1\n",
            "47\n",
            "1\n",
            "48\n",
            "1\n",
            "49\n",
            "1\n",
            "50\n",
            "1\n",
            "51\n",
            "1\n",
            "52\n",
            "1\n",
            "53\n",
            "1\n",
            "54\n",
            "1\n",
            "55\n",
            "1\n",
            "56\n",
            "1\n",
            "57\n",
            "1\n",
            "58\n",
            "1\n",
            "59\n",
            "1\n",
            "60\n",
            "1\n",
            "61\n",
            "1\n",
            "62\n",
            "1\n",
            "63\n",
            "1\n",
            "64\n",
            "1\n",
            "65\n",
            "1\n",
            "66\n",
            "1\n",
            "67\n",
            "1\n",
            "68\n",
            "1\n",
            "69\n",
            "1\n",
            "70\n",
            "1\n",
            "71\n",
            "1\n",
            "72\n",
            "1\n",
            "73\n",
            "1\n",
            "74\n",
            "1\n",
            "75\n",
            "1\n",
            "76\n",
            "1\n",
            "77\n",
            "1\n",
            "78\n",
            "1\n",
            "79\n",
            "1\n",
            "80\n",
            "1\n",
            "81\n",
            "1\n",
            "82\n",
            "1\n",
            "83\n",
            "1\n",
            "84\n",
            "1\n",
            "85\n",
            "1\n",
            "86\n",
            "1\n",
            "87\n",
            "1\n",
            "88\n",
            "1\n",
            "89\n",
            "1\n",
            "90\n",
            "1\n",
            "91\n",
            "1\n",
            "92\n",
            "1\n",
            "93\n",
            "1\n",
            "94\n",
            "1\n",
            "95\n",
            "1\n",
            "96\n",
            "1\n",
            "97\n",
            "1\n",
            "98\n",
            "1\n",
            "99\n",
            "1\n",
            "100\n",
            "1\n",
            "101\n",
            "1\n",
            "102\n",
            "1\n",
            "103\n",
            "1\n",
            "104\n",
            "1\n",
            "105\n",
            "1\n",
            "106\n",
            "1\n",
            "107\n",
            "1\n",
            "108\n",
            "1\n",
            "109\n",
            "1\n",
            "110\n",
            "1\n",
            "111\n",
            "1\n",
            "112\n",
            "1\n",
            "113\n",
            "1\n",
            "114\n",
            "1\n",
            "115\n",
            "1\n",
            "116\n",
            "1\n",
            "117\n",
            "1\n",
            "118\n",
            "1\n",
            "119\n",
            "1\n",
            "120\n",
            "1\n",
            "121\n",
            "1\n",
            "122\n",
            "1\n",
            "123\n",
            "1\n",
            "124\n",
            "1\n",
            "125\n",
            "1\n",
            "126\n",
            "1\n",
            "127\n",
            "1\n",
            "128\n",
            "1\n",
            "129\n",
            "1\n",
            "130\n",
            "1\n",
            "131\n",
            "1\n",
            "132\n",
            "1\n",
            "133\n",
            "1\n",
            "134\n",
            "1\n",
            "135\n",
            "1\n",
            "136\n",
            "1\n",
            "137\n",
            "1\n",
            "138\n",
            "1\n",
            "139\n",
            "1\n",
            "140\n",
            "1\n",
            "141\n",
            "1\n",
            "142\n",
            "1\n",
            "143\n",
            "1\n",
            "144\n",
            "1\n",
            "145\n",
            "1\n",
            "146\n",
            "1\n",
            "147\n",
            "1\n",
            "148\n",
            "1\n",
            "149\n",
            "1\n",
            "150\n",
            "1\n",
            "151\n",
            "1\n",
            "152\n",
            "1\n",
            "153\n",
            "1\n",
            "154\n",
            "1\n",
            "155\n",
            "1\n",
            "156\n",
            "1\n",
            "157\n",
            "1\n",
            "158\n",
            "1\n",
            "159\n",
            "1\n",
            "160\n",
            "1\n",
            "161\n",
            "1\n",
            "162\n",
            "1\n",
            "163\n",
            "1\n",
            "164\n",
            "1\n",
            "165\n",
            "1\n",
            "166\n",
            "1\n",
            "167\n",
            "1\n",
            "168\n",
            "1\n",
            "169\n",
            "1\n",
            "170\n",
            "1\n",
            "171\n",
            "1\n",
            "172\n",
            "1\n",
            "173\n",
            "1\n",
            "174\n",
            "1\n",
            "175\n",
            "1\n",
            "176\n",
            "1\n",
            "177\n",
            "1\n",
            "178\n",
            "1\n",
            "179\n",
            "1\n",
            "180\n",
            "1\n",
            "181\n",
            "1\n",
            "182\n",
            "1\n",
            "183\n",
            "1\n",
            "184\n",
            "1\n",
            "185\n",
            "1\n",
            "186\n",
            "1\n",
            "187\n",
            "1\n",
            "188\n",
            "1\n",
            "189\n",
            "1\n",
            "190\n",
            "1\n",
            "191\n",
            "1\n",
            "192\n",
            "1\n",
            "193\n",
            "1\n",
            "194\n",
            "1\n",
            "195\n",
            "1\n",
            "196\n",
            "1\n",
            "197\n",
            "1\n",
            "198\n",
            "1\n",
            "199\n",
            "1\n",
            "200\n",
            "1\n",
            "201\n",
            "1\n",
            "202\n",
            "1\n",
            "203\n",
            "1\n",
            "204\n",
            "1\n",
            "205\n",
            "1\n",
            "206\n",
            "1\n",
            "207\n",
            "1\n",
            "208\n",
            "1\n",
            "209\n",
            "1\n",
            "210\n",
            "1\n",
            "211\n",
            "1\n",
            "212\n",
            "1\n",
            "213\n",
            "1\n",
            "214\n",
            "1\n",
            "215\n",
            "1\n",
            "216\n",
            "1\n",
            "217\n",
            "1\n",
            "218\n",
            "1\n",
            "219\n",
            "1\n",
            "220\n",
            "1\n",
            "221\n",
            "1\n",
            "222\n",
            "1\n",
            "223\n",
            "1\n",
            "224\n",
            "1\n",
            "225\n",
            "1\n",
            "226\n",
            "1\n",
            "227\n",
            "1\n",
            "228\n",
            "1\n",
            "229\n",
            "1\n",
            "230\n",
            "1\n",
            "231\n",
            "1\n",
            "232\n",
            "1\n",
            "233\n",
            "1\n",
            "234\n",
            "1\n",
            "235\n",
            "1\n",
            "236\n",
            "1\n",
            "237\n",
            "1\n",
            "238\n",
            "1\n",
            "239\n",
            "1\n",
            "240\n",
            "1\n",
            "241\n",
            "1\n",
            "242\n",
            "1\n",
            "243\n",
            "1\n",
            "244\n",
            "1\n",
            "245\n",
            "1\n",
            "246\n",
            "1\n",
            "247\n",
            "1\n",
            "248\n",
            "1\n",
            "249\n",
            "1\n",
            "250\n",
            "1\n",
            "251\n",
            "1\n",
            "252\n",
            "1\n",
            "253\n",
            "1\n",
            "254\n",
            "1\n",
            "255\n",
            "1\n",
            "256\n",
            "1\n",
            "257\n",
            "1\n",
            "258\n",
            "1\n",
            "259\n",
            "1\n",
            "260\n",
            "1\n",
            "261\n",
            "1\n",
            "262\n",
            "1\n",
            "263\n",
            "1\n",
            "264\n",
            "1\n",
            "265\n",
            "1\n",
            "266\n",
            "1\n",
            "267\n",
            "1\n",
            "268\n",
            "1\n",
            "269\n",
            "1\n",
            "270\n",
            "1\n",
            "271\n",
            "1\n",
            "272\n",
            "1\n",
            "273\n",
            "1\n",
            "274\n",
            "1\n",
            "275\n",
            "1\n",
            "276\n",
            "1\n",
            "277\n",
            "1\n",
            "278\n",
            "1\n",
            "279\n",
            "1\n",
            "280\n",
            "1\n",
            "281\n",
            "1\n",
            "282\n",
            "1\n",
            "283\n",
            "1\n",
            "284\n",
            "1\n",
            "285\n",
            "1\n",
            "286\n",
            "1\n",
            "287\n",
            "1\n",
            "288\n",
            "1\n",
            "289\n",
            "1\n",
            "290\n",
            "1\n",
            "291\n",
            "1\n",
            "292\n",
            "1\n",
            "293\n",
            "1\n",
            "294\n",
            "1\n",
            "295\n",
            "1\n",
            "296\n",
            "1\n",
            "297\n",
            "1\n",
            "298\n",
            "1\n",
            "299\n",
            "1\n",
            "300\n",
            "1\n",
            "301\n",
            "1\n",
            "302\n",
            "1\n",
            "303\n",
            "1\n",
            "304\n",
            "1\n",
            "305\n",
            "1\n",
            "306\n",
            "1\n",
            "307\n",
            "1\n",
            "308\n",
            "1\n",
            "309\n",
            "1\n",
            "310\n",
            "1\n",
            "311\n",
            "1\n",
            "312\n",
            "1\n",
            "313\n",
            "1\n",
            "314\n",
            "1\n",
            "315\n",
            "1\n",
            "316\n",
            "1\n",
            "317\n",
            "1\n",
            "318\n",
            "1\n",
            "319\n",
            "1\n"
          ]
        }
      ]
    },
    {
      "cell_type": "code",
      "source": [
        "extracted_features,extracted_features"
      ],
      "metadata": {
        "colab": {
          "base_uri": "https://localhost:8080/",
          "height": 166
        },
        "id": "uH7WeKZHvCFu",
        "outputId": "1745ae25-b706-40c0-d24b-5e92617e2e80"
      },
      "execution_count": null,
      "outputs": [
        {
          "output_type": "error",
          "ename": "AttributeError",
          "evalue": "ignored",
          "traceback": [
            "\u001b[0;31m---------------------------------------------------------------------------\u001b[0m",
            "\u001b[0;31mAttributeError\u001b[0m                            Traceback (most recent call last)",
            "\u001b[0;32m<ipython-input-10-98c2135cabfc>\u001b[0m in \u001b[0;36m<cell line: 1>\u001b[0;34m()\u001b[0m\n\u001b[0;32m----> 1\u001b[0;31m \u001b[0mextracted_features\u001b[0m\u001b[0;34m[\u001b[0m\u001b[0;36m1\u001b[0m\u001b[0;34m:\u001b[0m\u001b[0;36m3\u001b[0m\u001b[0;34m]\u001b[0m\u001b[0;34m,\u001b[0m\u001b[0mextracted_features\u001b[0m\u001b[0;34m.\u001b[0m\u001b[0mshape\u001b[0m\u001b[0;34m\u001b[0m\u001b[0;34m\u001b[0m\u001b[0m\n\u001b[0m",
            "\u001b[0;31mAttributeError\u001b[0m: 'list' object has no attribute 'shape'"
          ]
        }
      ]
    },
    {
      "cell_type": "code",
      "source": [],
      "metadata": {
        "id": "bxcYPYwcv9uw"
      },
      "execution_count": null,
      "outputs": []
    },
    {
      "cell_type": "code",
      "source": [
        "\n",
        "train_df = pd.DataFrame(data=extracted_features, columns=[ 'Audio_feature','labels'])"
      ],
      "metadata": {
        "id": "SYm6wvLMv2_x"
      },
      "execution_count": null,
      "outputs": []
    },
    {
      "cell_type": "code",
      "source": [
        "train_df"
      ],
      "metadata": {
        "colab": {
          "base_uri": "https://localhost:8080/",
          "height": 423
        },
        "id": "50n109fnyFig",
        "outputId": "5c5190b7-e1bc-487d-ea70-754aa68af5f8"
      },
      "execution_count": null,
      "outputs": [
        {
          "output_type": "execute_result",
          "data": {
            "text/plain": [
              "                                         Audio_feature labels\n",
              "0    [-439.7819, 98.83132, 18.595602, 46.25628, -9....     NT\n",
              "1    [-416.52634, 86.77293, -0.77516764, 28.779076,...     PL\n",
              "2    [-399.03583, 88.01755, -2.2317855, 35.191605, ...     PT\n",
              "3    [-429.82544, 109.92758, 13.664315, 40.154354, ...     PL\n",
              "4    [-400.64767, 101.943344, -6.752604, 30.457932,...     NT\n",
              "..                                                 ...    ...\n",
              "315  [-290.09, 113.90502, -4.2134595, 18.112232, -6...     NT\n",
              "316  [-330.08926, 81.72325, 10.384865, 26.628653, -...     NT\n",
              "317  [-326.29684, 99.23813, -1.3626351, 23.533642, ...     PL\n",
              "318  [-336.62262, 84.13993, 6.987984, 30.98352, -7....     NT\n",
              "319  [-323.00247, 84.99004, 4.178365, 36.20537, -4....     PL\n",
              "\n",
              "[320 rows x 2 columns]"
            ],
            "text/html": [
              "\n",
              "  <div id=\"df-c6bc09dc-4d8b-49c8-a1aa-15afeee36cc9\">\n",
              "    <div class=\"colab-df-container\">\n",
              "      <div>\n",
              "<style scoped>\n",
              "    .dataframe tbody tr th:only-of-type {\n",
              "        vertical-align: middle;\n",
              "    }\n",
              "\n",
              "    .dataframe tbody tr th {\n",
              "        vertical-align: top;\n",
              "    }\n",
              "\n",
              "    .dataframe thead th {\n",
              "        text-align: right;\n",
              "    }\n",
              "</style>\n",
              "<table border=\"1\" class=\"dataframe\">\n",
              "  <thead>\n",
              "    <tr style=\"text-align: right;\">\n",
              "      <th></th>\n",
              "      <th>Audio_feature</th>\n",
              "      <th>labels</th>\n",
              "    </tr>\n",
              "  </thead>\n",
              "  <tbody>\n",
              "    <tr>\n",
              "      <th>0</th>\n",
              "      <td>[-439.7819, 98.83132, 18.595602, 46.25628, -9....</td>\n",
              "      <td>NT</td>\n",
              "    </tr>\n",
              "    <tr>\n",
              "      <th>1</th>\n",
              "      <td>[-416.52634, 86.77293, -0.77516764, 28.779076,...</td>\n",
              "      <td>PL</td>\n",
              "    </tr>\n",
              "    <tr>\n",
              "      <th>2</th>\n",
              "      <td>[-399.03583, 88.01755, -2.2317855, 35.191605, ...</td>\n",
              "      <td>PT</td>\n",
              "    </tr>\n",
              "    <tr>\n",
              "      <th>3</th>\n",
              "      <td>[-429.82544, 109.92758, 13.664315, 40.154354, ...</td>\n",
              "      <td>PL</td>\n",
              "    </tr>\n",
              "    <tr>\n",
              "      <th>4</th>\n",
              "      <td>[-400.64767, 101.943344, -6.752604, 30.457932,...</td>\n",
              "      <td>NT</td>\n",
              "    </tr>\n",
              "    <tr>\n",
              "      <th>...</th>\n",
              "      <td>...</td>\n",
              "      <td>...</td>\n",
              "    </tr>\n",
              "    <tr>\n",
              "      <th>315</th>\n",
              "      <td>[-290.09, 113.90502, -4.2134595, 18.112232, -6...</td>\n",
              "      <td>NT</td>\n",
              "    </tr>\n",
              "    <tr>\n",
              "      <th>316</th>\n",
              "      <td>[-330.08926, 81.72325, 10.384865, 26.628653, -...</td>\n",
              "      <td>NT</td>\n",
              "    </tr>\n",
              "    <tr>\n",
              "      <th>317</th>\n",
              "      <td>[-326.29684, 99.23813, -1.3626351, 23.533642, ...</td>\n",
              "      <td>PL</td>\n",
              "    </tr>\n",
              "    <tr>\n",
              "      <th>318</th>\n",
              "      <td>[-336.62262, 84.13993, 6.987984, 30.98352, -7....</td>\n",
              "      <td>NT</td>\n",
              "    </tr>\n",
              "    <tr>\n",
              "      <th>319</th>\n",
              "      <td>[-323.00247, 84.99004, 4.178365, 36.20537, -4....</td>\n",
              "      <td>PL</td>\n",
              "    </tr>\n",
              "  </tbody>\n",
              "</table>\n",
              "<p>320 rows × 2 columns</p>\n",
              "</div>\n",
              "      <button class=\"colab-df-convert\" onclick=\"convertToInteractive('df-c6bc09dc-4d8b-49c8-a1aa-15afeee36cc9')\"\n",
              "              title=\"Convert this dataframe to an interactive table.\"\n",
              "              style=\"display:none;\">\n",
              "        \n",
              "  <svg xmlns=\"http://www.w3.org/2000/svg\" height=\"24px\"viewBox=\"0 0 24 24\"\n",
              "       width=\"24px\">\n",
              "    <path d=\"M0 0h24v24H0V0z\" fill=\"none\"/>\n",
              "    <path d=\"M18.56 5.44l.94 2.06.94-2.06 2.06-.94-2.06-.94-.94-2.06-.94 2.06-2.06.94zm-11 1L8.5 8.5l.94-2.06 2.06-.94-2.06-.94L8.5 2.5l-.94 2.06-2.06.94zm10 10l.94 2.06.94-2.06 2.06-.94-2.06-.94-.94-2.06-.94 2.06-2.06.94z\"/><path d=\"M17.41 7.96l-1.37-1.37c-.4-.4-.92-.59-1.43-.59-.52 0-1.04.2-1.43.59L10.3 9.45l-7.72 7.72c-.78.78-.78 2.05 0 2.83L4 21.41c.39.39.9.59 1.41.59.51 0 1.02-.2 1.41-.59l7.78-7.78 2.81-2.81c.8-.78.8-2.07 0-2.86zM5.41 20L4 18.59l7.72-7.72 1.47 1.35L5.41 20z\"/>\n",
              "  </svg>\n",
              "      </button>\n",
              "      \n",
              "  <style>\n",
              "    .colab-df-container {\n",
              "      display:flex;\n",
              "      flex-wrap:wrap;\n",
              "      gap: 12px;\n",
              "    }\n",
              "\n",
              "    .colab-df-convert {\n",
              "      background-color: #E8F0FE;\n",
              "      border: none;\n",
              "      border-radius: 50%;\n",
              "      cursor: pointer;\n",
              "      display: none;\n",
              "      fill: #1967D2;\n",
              "      height: 32px;\n",
              "      padding: 0 0 0 0;\n",
              "      width: 32px;\n",
              "    }\n",
              "\n",
              "    .colab-df-convert:hover {\n",
              "      background-color: #E2EBFA;\n",
              "      box-shadow: 0px 1px 2px rgba(60, 64, 67, 0.3), 0px 1px 3px 1px rgba(60, 64, 67, 0.15);\n",
              "      fill: #174EA6;\n",
              "    }\n",
              "\n",
              "    [theme=dark] .colab-df-convert {\n",
              "      background-color: #3B4455;\n",
              "      fill: #D2E3FC;\n",
              "    }\n",
              "\n",
              "    [theme=dark] .colab-df-convert:hover {\n",
              "      background-color: #434B5C;\n",
              "      box-shadow: 0px 1px 3px 1px rgba(0, 0, 0, 0.15);\n",
              "      filter: drop-shadow(0px 1px 2px rgba(0, 0, 0, 0.3));\n",
              "      fill: #FFFFFF;\n",
              "    }\n",
              "  </style>\n",
              "\n",
              "      <script>\n",
              "        const buttonEl =\n",
              "          document.querySelector('#df-c6bc09dc-4d8b-49c8-a1aa-15afeee36cc9 button.colab-df-convert');\n",
              "        buttonEl.style.display =\n",
              "          google.colab.kernel.accessAllowed ? 'block' : 'none';\n",
              "\n",
              "        async function convertToInteractive(key) {\n",
              "          const element = document.querySelector('#df-c6bc09dc-4d8b-49c8-a1aa-15afeee36cc9');\n",
              "          const dataTable =\n",
              "            await google.colab.kernel.invokeFunction('convertToInteractive',\n",
              "                                                     [key], {});\n",
              "          if (!dataTable) return;\n",
              "\n",
              "          const docLinkHtml = 'Like what you see? Visit the ' +\n",
              "            '<a target=\"_blank\" href=https://colab.research.google.com/notebooks/data_table.ipynb>data table notebook</a>'\n",
              "            + ' to learn more about interactive tables.';\n",
              "          element.innerHTML = '';\n",
              "          dataTable['output_type'] = 'display_data';\n",
              "          await google.colab.output.renderOutput(dataTable, element);\n",
              "          const docLink = document.createElement('div');\n",
              "          docLink.innerHTML = docLinkHtml;\n",
              "          element.appendChild(docLink);\n",
              "        }\n",
              "      </script>\n",
              "    </div>\n",
              "  </div>\n",
              "  "
            ]
          },
          "metadata": {},
          "execution_count": 10
        }
      ]
    },
    {
      "cell_type": "markdown",
      "source": [
        "#Model Run CNN"
      ],
      "metadata": {
        "id": "2veoPlsUGLgn"
      }
    },
    {
      "cell_type": "code",
      "source": [
        "\n",
        "  from tensorflow import keras\n",
        "  from imutils import paths\n",
        "\n",
        "  import matplotlib.pyplot as plt\n",
        "  import tensorflow as tf\n",
        "  import pandas as pd\n",
        "  import numpy as np\n",
        "  import imageio\n",
        "  import cv2\n",
        "  import os"
      ],
      "metadata": {
        "id": "7IehlKdwzWAN"
      },
      "execution_count": null,
      "outputs": []
    },
    {
      "cell_type": "code",
      "source": [],
      "metadata": {
        "id": "ciXo_AYszAMg"
      },
      "execution_count": null,
      "outputs": []
    },
    {
      "cell_type": "code",
      "source": [
        "import tensorflow as tf\n",
        "print(tf.__version__)"
      ],
      "metadata": {
        "colab": {
          "base_uri": "https://localhost:8080/"
        },
        "id": "GTxcVocyz47k",
        "outputId": "1f0170a2-149d-40f6-9dff-30abb974fca2"
      },
      "execution_count": null,
      "outputs": [
        {
          "output_type": "stream",
          "name": "stdout",
          "text": [
            "2.12.0\n"
          ]
        }
      ]
    },
    {
      "cell_type": "code",
      "source": [
        "from tensorflow.keras.models import Sequential\n",
        "from tensorflow.keras.layers import Dense,Dropout,Activation,Flatten\n",
        "from tensorflow.keras.optimizers import Adam\n",
        "from sklearn import metrics"
      ],
      "metadata": {
        "id": "4rsE4Ivqz5vv"
      },
      "execution_count": null,
      "outputs": []
    },
    {
      "cell_type": "code",
      "source": [
        "### Split the dataset into independent and dependent dataset\n",
        "X=np.array(train_df['Audio_feature'].tolist())\n",
        "y=np.array(train_df['labels'].tolist())"
      ],
      "metadata": {
        "id": "2I3mphlZ4mi6"
      },
      "execution_count": null,
      "outputs": []
    },
    {
      "cell_type": "code",
      "source": [
        "y=np.array(pd.get_dummies(y))"
      ],
      "metadata": {
        "id": "_D8rWxabIfqv"
      },
      "execution_count": null,
      "outputs": []
    },
    {
      "cell_type": "code",
      "source": [
        "model=Sequential()\n",
        "###first layer\n",
        "model.add(Dense(100,input_shape=(40,)))\n",
        "model.add(Activation('relu'))\n",
        "model.add(Dropout(0.5))\n",
        "###second layer\n",
        "model.add(Dense(200))\n",
        "model.add(Activation('relu'))\n",
        "\n",
        "###third layer\n",
        "model.add(Dense(100))\n",
        "model.add(Activation('relu'))\n",
        "model.add(Dropout(0.5))\n",
        "\n",
        "###final layer\n",
        "model.add(Dense(4))\n",
        "model.add(Activation('softmax'))"
      ],
      "metadata": {
        "id": "oOng4GMZz7-n"
      },
      "execution_count": null,
      "outputs": []
    },
    {
      "cell_type": "code",
      "source": [
        "model.compile(loss='categorical_crossentropy',metrics=['accuracy'],optimizer='adam')"
      ],
      "metadata": {
        "id": "GtsgdWw30Uaz"
      },
      "execution_count": null,
      "outputs": []
    },
    {
      "cell_type": "code",
      "source": [
        "### Train Test Split\n",
        "from sklearn.model_selection import train_test_split\n",
        "X_train,X_test,y_train,y_test=train_test_split(X,y,test_size=0.2,random_state=0)"
      ],
      "metadata": {
        "id": "HZPnSpF90ew2"
      },
      "execution_count": null,
      "outputs": []
    },
    {
      "cell_type": "code",
      "source": [
        "#type(X),type(y),len(X),y\n",
        "#X.shape"
      ],
      "metadata": {
        "id": "h9Jq4nwA1jA5"
      },
      "execution_count": null,
      "outputs": []
    },
    {
      "cell_type": "code",
      "source": [
        "y.shape,X.shape"
      ],
      "metadata": {
        "colab": {
          "base_uri": "https://localhost:8080/"
        },
        "id": "P-Y5ZxQnHiht",
        "outputId": "54d7a7de-1e97-4f5b-c03c-228559d98607"
      },
      "execution_count": null,
      "outputs": [
        {
          "output_type": "execute_result",
          "data": {
            "text/plain": [
              "((320,), (320, 40))"
            ]
          },
          "metadata": {},
          "execution_count": 33
        }
      ]
    },
    {
      "cell_type": "code",
      "source": [
        "y_train.shape"
      ],
      "metadata": {
        "colab": {
          "base_uri": "https://localhost:8080/"
        },
        "id": "KmPN15JEh_LQ",
        "outputId": "79363afe-62e9-4b06-b8c3-1a103e810d33"
      },
      "execution_count": null,
      "outputs": [
        {
          "output_type": "execute_result",
          "data": {
            "text/plain": [
              "(256, 4)"
            ]
          },
          "metadata": {},
          "execution_count": 38
        }
      ]
    },
    {
      "cell_type": "code",
      "source": [
        "model.fit(X_train,y_train,epochs=10)"
      ],
      "metadata": {
        "colab": {
          "base_uri": "https://localhost:8080/"
        },
        "id": "Z2d18wLdaNlA",
        "outputId": "83075f56-1e3f-4968-ff3d-c9f45f314243"
      },
      "execution_count": null,
      "outputs": [
        {
          "output_type": "stream",
          "name": "stdout",
          "text": [
            "Epoch 1/10\n",
            "8/8 [==============================] - 1s 3ms/step - loss: 25.5411 - accuracy: 0.2617\n",
            "Epoch 2/10\n",
            "8/8 [==============================] - 0s 3ms/step - loss: 16.5447 - accuracy: 0.2266\n",
            "Epoch 3/10\n",
            "8/8 [==============================] - 0s 3ms/step - loss: 13.3340 - accuracy: 0.2461\n",
            "Epoch 4/10\n",
            "8/8 [==============================] - 0s 2ms/step - loss: 7.5354 - accuracy: 0.2656\n",
            "Epoch 5/10\n",
            "8/8 [==============================] - 0s 2ms/step - loss: 5.2086 - accuracy: 0.2500\n",
            "Epoch 6/10\n",
            "8/8 [==============================] - 0s 4ms/step - loss: 4.2616 - accuracy: 0.2461\n",
            "Epoch 7/10\n",
            "8/8 [==============================] - 0s 2ms/step - loss: 2.9776 - accuracy: 0.2734\n",
            "Epoch 8/10\n",
            "8/8 [==============================] - 0s 3ms/step - loss: 2.2478 - accuracy: 0.2344\n",
            "Epoch 9/10\n",
            "8/8 [==============================] - 0s 2ms/step - loss: 1.8024 - accuracy: 0.2305\n",
            "Epoch 10/10\n",
            "8/8 [==============================] - 0s 2ms/step - loss: 1.6880 - accuracy: 0.2500\n"
          ]
        },
        {
          "output_type": "execute_result",
          "data": {
            "text/plain": [
              "<keras.callbacks.History at 0x7f7d979e5550>"
            ]
          },
          "metadata": {},
          "execution_count": 39
        }
      ]
    },
    {
      "cell_type": "code",
      "source": [
        "import moviepy.editor\n",
        "from tkinter.filedialog import *\n",
        "dataset_path = os.listdir('/content/drive/MyDrive/Videos/Videos')\n",
        "for room in dataset_path:\n",
        "    rooms.append((room, str('/content/drive/MyDrive/Videos/Videos' + '/' +room) ))\n",
        "    video = moviepy.editor.VideoFileClip('/content/drive/MyDrive/Videos/Videos'+'/'+room)\n",
        "    audio = video.audio\n",
        "    \n",
        "    audio.write_audiofile('/content/drive/MyDrive/Audio_lie_detection'+'/'+room[:-3]+'mp3')\n",
        "\n",
        "print(\"Completed!\")"
      ],
      "metadata": {
        "colab": {
          "base_uri": "https://localhost:8080/",
          "height": 70
        },
        "id": "VuF2kdWM26FB",
        "outputId": "8b094c04-2d73-46ca-fb7a-8a6eb9ac878c"
      },
      "execution_count": null,
      "outputs": [
        {
          "output_type": "execute_result",
          "data": {
            "text/plain": [
              "'import moviepy.editor\\nfrom tkinter.filedialog import *\\ndataset_path = os.listdir(\\'/content/drive/MyDrive/Videos/Videos\\')\\nfor room in dataset_path:\\n    rooms.append((room, str(\\'/content/drive/MyDrive/Videos/Videos\\' + \\'/\\' +room) ))\\n    video = moviepy.editor.VideoFileClip(\\'/content/drive/MyDrive/Videos/Videos\\'+\\'/\\'+room)\\n    audio = video.audio\\n    \\n    audio.write_audiofile(\\'/content/drive/MyDrive/Audio_lie_detection\\'+\\'/\\'+room[:-3]+\\'mp3\\')\\n\\nprint(\"Completed!\")'"
            ],
            "application/vnd.google.colaboratory.intrinsic+json": {
              "type": "string"
            }
          },
          "metadata": {},
          "execution_count": 187
        }
      ]
    },
    {
      "cell_type": "markdown",
      "source": [
        "# saving Audio features for concatenated model run"
      ],
      "metadata": {
        "id": "lfi0-L4qGUZs"
      }
    },
    {
      "cell_type": "code",
      "source": [
        "'''import pickle\n",
        "\n",
        "with open('Audio_features', 'wb') as f:\n",
        "    pickle.dump(X, f)'''"
      ],
      "metadata": {
        "id": "FN1EUZj8729O"
      },
      "execution_count": null,
      "outputs": []
    }
  ]
}