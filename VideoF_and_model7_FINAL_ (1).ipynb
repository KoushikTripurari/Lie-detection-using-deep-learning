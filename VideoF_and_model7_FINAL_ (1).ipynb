{
  "nbformat": 4,
  "nbformat_minor": 0,
  "metadata": {
    "colab": {
      "provenance": []
    },
    "kernelspec": {
      "name": "python3",
      "display_name": "Python 3"
    },
    "language_info": {
      "name": "python"
    }
  },
  "cells": [
    {
      "cell_type": "code",
      "source": [
        "from google.colab import drive\n",
        "drive.mount('/content/drive')\n"
      ],
      "metadata": {
        "colab": {
          "base_uri": "https://localhost:8080/"
        },
        "id": "gCUmZLEyYpSJ",
        "outputId": "a200b9c5-9bb7-4c31-c420-50a22d9a08f8"
      },
      "execution_count": 1,
      "outputs": [
        {
          "output_type": "stream",
          "name": "stdout",
          "text": [
            "Mounted at /content/drive\n"
          ]
        }
      ]
    },
    {
      "cell_type": "code",
      "execution_count": 2,
      "metadata": {
        "colab": {
          "base_uri": "https://localhost:8080/",
          "height": 52
        },
        "id": "lg3iAYv6XLcl",
        "outputId": "96b4fc42-2797-49b9-84f5-06d6bd1bc905"
      },
      "outputs": [
        {
          "output_type": "stream",
          "name": "stdout",
          "text": [
            "PL\n"
          ]
        },
        {
          "output_type": "execute_result",
          "data": {
            "text/plain": [
              "'BF003_3NT.wmv'"
            ],
            "application/vnd.google.colaboratory.intrinsic+json": {
              "type": "string"
            }
          },
          "metadata": {},
          "execution_count": 2
        }
      ],
      "source": [
        "import numpy as np \n",
        "import pandas as pd \n",
        "import matplotlib.pyplot as plt\n",
        "import os\n",
        "\n",
        "dataset_path = os.listdir('/content/drive/MyDrive/Videos/Videos')\n",
        "\n",
        "label_types = os.listdir('/content/drive/MyDrive/Videos/Videos')\n",
        "print (label_types[1][-6]+label_types[1][-5])  \n",
        "label_types[0]"
      ]
    },
    {
      "cell_type": "markdown",
      "source": [
        "# Adding labels of videos and saved video names \n",
        "\n",
        "\n",
        "\n",
        "\n"
      ],
      "metadata": {
        "id": "Qtdj6bmb7nlY"
      }
    },
    {
      "cell_type": "code",
      "source": [
        "rooms = []\n",
        "\n",
        " # Add them to the list\n",
        "for room in dataset_path:\n",
        "    rooms.append((room, str('/content/drive/MyDrive/Videos/Videos' + '/' +room) ))\n",
        "    \n",
        "# Build a dataframe        \n",
        "train_df = pd.DataFrame(data=rooms, columns=['tag', 'video_name'])\n",
        "print(train_df.head())\n",
        "print(train_df.tail())"
      ],
      "metadata": {
        "colab": {
          "base_uri": "https://localhost:8080/"
        },
        "id": "LFspr5NdXX3L",
        "outputId": "1938e8dd-e6b1-428f-8b1b-785cad6493bd"
      },
      "execution_count": 3,
      "outputs": [
        {
          "output_type": "stream",
          "name": "stdout",
          "text": [
            "             tag                                         video_name\n",
            "0  BF003_3NT.wmv  /content/drive/MyDrive/Videos/Videos/BF003_3NT...\n",
            "1  BF001_4PL.wmv  /content/drive/MyDrive/Videos/Videos/BF001_4PL...\n",
            "2  BF001_1PT.wmv  /content/drive/MyDrive/Videos/Videos/BF001_1PT...\n",
            "3  BF003_4PL.wmv  /content/drive/MyDrive/Videos/Videos/BF003_4PL...\n",
            "4  BF002_3NT.wmv  /content/drive/MyDrive/Videos/Videos/BF002_3NT...\n",
            "               tag                                         video_name\n",
            "315   WM13_3NT.wmv  /content/drive/MyDrive/Videos/Videos/WM13_3NT.wmv\n",
            "316   WM19_3NT.wmv  /content/drive/MyDrive/Videos/Videos/WM19_3NT.wmv\n",
            "317   WM19_4PL.wmv  /content/drive/MyDrive/Videos/Videos/WM19_4PL.wmv\n",
            "318  WM027_3NT.wmv  /content/drive/MyDrive/Videos/Videos/WM027_3NT...\n",
            "319  WM027_4PL.wmv  /content/drive/MyDrive/Videos/Videos/WM027_4PL...\n"
          ]
        }
      ]
    },
    {
      "cell_type": "code",
      "source": [
        "train_df.video_name.to_list()"
      ],
      "metadata": {
        "colab": {
          "base_uri": "https://localhost:8080/"
        },
        "id": "nsCSGBDwmSGf",
        "outputId": "bf602890-fcde-4ddd-89cc-4fec65e16d0d"
      },
      "execution_count": 4,
      "outputs": [
        {
          "output_type": "execute_result",
          "data": {
            "text/plain": [
              "['/content/drive/MyDrive/Videos/Videos/BF003_3NT.wmv',\n",
              " '/content/drive/MyDrive/Videos/Videos/BF001_4PL.wmv',\n",
              " '/content/drive/MyDrive/Videos/Videos/BF001_1PT.wmv',\n",
              " '/content/drive/MyDrive/Videos/Videos/BF003_4PL.wmv',\n",
              " '/content/drive/MyDrive/Videos/Videos/BF002_3NT.wmv',\n",
              " '/content/drive/MyDrive/Videos/Videos/BF003_1PT.wmv',\n",
              " '/content/drive/MyDrive/Videos/Videos/BF004_1PT.wmv',\n",
              " '/content/drive/MyDrive/Videos/Videos/BF003_2NL.wmv',\n",
              " '/content/drive/MyDrive/Videos/Videos/BF001_3NT.wmv',\n",
              " '/content/drive/MyDrive/Videos/Videos/BF002_1PT.wmv',\n",
              " '/content/drive/MyDrive/Videos/Videos/BF002_4PL.wmv',\n",
              " '/content/drive/MyDrive/Videos/Videos/BF001_2NL.wmv',\n",
              " '/content/drive/MyDrive/Videos/Videos/BF002_2NL.wmv',\n",
              " '/content/drive/MyDrive/Videos/Videos/BF015_2NL.wmv',\n",
              " '/content/drive/MyDrive/Videos/Videos/BF006_1PT.wmv',\n",
              " '/content/drive/MyDrive/Videos/Videos/BF014_3NT.wmv',\n",
              " '/content/drive/MyDrive/Videos/Videos/BF006_3NT.wmv',\n",
              " '/content/drive/MyDrive/Videos/Videos/BF013_3NT.wmv',\n",
              " '/content/drive/MyDrive/Videos/Videos/BF013_2NL.wmv',\n",
              " '/content/drive/MyDrive/Videos/Videos/BF008_1PT.wmv',\n",
              " '/content/drive/MyDrive/Videos/Videos/BF014_1PT.wmv',\n",
              " '/content/drive/MyDrive/Videos/Videos/BF006_2NL.wmv',\n",
              " '/content/drive/MyDrive/Videos/Videos/BF004_4PL.wmv',\n",
              " '/content/drive/MyDrive/Videos/Videos/BF008_4PL.wmv',\n",
              " '/content/drive/MyDrive/Videos/Videos/BF014_2NL.wmv',\n",
              " '/content/drive/MyDrive/Videos/Videos/BF004_2NL.wmv',\n",
              " '/content/drive/MyDrive/Videos/Videos/BF013_4PL.wmv',\n",
              " '/content/drive/MyDrive/Videos/Videos/BF006_4PL.wmv',\n",
              " '/content/drive/MyDrive/Videos/Videos/BF013_1PT.wmv',\n",
              " '/content/drive/MyDrive/Videos/Videos/BF008_3NT.wmv',\n",
              " '/content/drive/MyDrive/Videos/Videos/BF004_3NT.wmv',\n",
              " '/content/drive/MyDrive/Videos/Videos/BF008_2NL.wmv',\n",
              " '/content/drive/MyDrive/Videos/Videos/BF014_4PL.wmv',\n",
              " '/content/drive/MyDrive/Videos/Videos/BF015_1PT.wmv',\n",
              " '/content/drive/MyDrive/Videos/Videos/BF015_3NT.wmv',\n",
              " '/content/drive/MyDrive/Videos/Videos/BF022_4PL.wmv',\n",
              " '/content/drive/MyDrive/Videos/Videos/BF016_3NT.wmv',\n",
              " '/content/drive/MyDrive/Videos/Videos/BF016_2NL.wmv',\n",
              " '/content/drive/MyDrive/Videos/Videos/BF022_3NT.wmv',\n",
              " '/content/drive/MyDrive/Videos/Videos/BF022_2NL.wmv',\n",
              " '/content/drive/MyDrive/Videos/Videos/BF020_3NT.wmv',\n",
              " '/content/drive/MyDrive/Videos/Videos/BF018_2NL.wmv',\n",
              " '/content/drive/MyDrive/Videos/Videos/BF018_1PT.wmv',\n",
              " '/content/drive/MyDrive/Videos/Videos/BF020_4PL.wmv',\n",
              " '/content/drive/MyDrive/Videos/Videos/BF022_1PT.wmv',\n",
              " '/content/drive/MyDrive/Videos/Videos/BF016_4PL.wmv',\n",
              " '/content/drive/MyDrive/Videos/Videos/BF019_1PT.wmv',\n",
              " '/content/drive/MyDrive/Videos/Videos/BF019_2NL.wmv',\n",
              " '/content/drive/MyDrive/Videos/Videos/BF018_3NT.wmv',\n",
              " '/content/drive/MyDrive/Videos/Videos/BF020_2NL.wmv',\n",
              " '/content/drive/MyDrive/Videos/Videos/BF018_4PL.wmv',\n",
              " '/content/drive/MyDrive/Videos/Videos/BF019_4PL.wmv',\n",
              " '/content/drive/MyDrive/Videos/Videos/BF016_1PT.wmv',\n",
              " '/content/drive/MyDrive/Videos/Videos/BF023_1PT.wmv',\n",
              " '/content/drive/MyDrive/Videos/Videos/BF020_1PT.wmv',\n",
              " '/content/drive/MyDrive/Videos/Videos/BF019_3NT.wmv',\n",
              " '/content/drive/MyDrive/Videos/Videos/BF015_4PL.wmv',\n",
              " '/content/drive/MyDrive/Videos/Videos/BF027_4PL.wmv',\n",
              " '/content/drive/MyDrive/Videos/Videos/BF033_1PT.wmv',\n",
              " '/content/drive/MyDrive/Videos/Videos/BF024_2NL.wmv',\n",
              " '/content/drive/MyDrive/Videos/Videos/BF027_1PT.wmv',\n",
              " '/content/drive/MyDrive/Videos/Videos/BF025_4PL.wmv',\n",
              " '/content/drive/MyDrive/Videos/Videos/BF027_3NT.wmv',\n",
              " '/content/drive/MyDrive/Videos/Videos/BF025_1PT.wmv',\n",
              " '/content/drive/MyDrive/Videos/Videos/BF028_2NL.wmv',\n",
              " '/content/drive/MyDrive/Videos/Videos/BF028_1PT.wmv',\n",
              " '/content/drive/MyDrive/Videos/Videos/BF033_2NL.wmv',\n",
              " '/content/drive/MyDrive/Videos/Videos/BF024_4PL.wmv',\n",
              " '/content/drive/MyDrive/Videos/Videos/BF025_2NL.wmv',\n",
              " '/content/drive/MyDrive/Videos/Videos/BF025_3NT.wmv',\n",
              " '/content/drive/MyDrive/Videos/Videos/BF027_2NL.wmv',\n",
              " '/content/drive/MyDrive/Videos/Videos/BF023_2NL.wmv',\n",
              " '/content/drive/MyDrive/Videos/Videos/BF023_3NT.wmv',\n",
              " '/content/drive/MyDrive/Videos/Videos/BF033_3NT.wmv',\n",
              " '/content/drive/MyDrive/Videos/Videos/BF024_1PT.wmv',\n",
              " '/content/drive/MyDrive/Videos/Videos/BF023_4PL.wmv',\n",
              " '/content/drive/MyDrive/Videos/Videos/BF028_3NT.wmv',\n",
              " '/content/drive/MyDrive/Videos/Videos/BF028_4PL.wmv',\n",
              " '/content/drive/MyDrive/Videos/Videos/BF024_3NT.wmv',\n",
              " '/content/drive/MyDrive/Videos/Videos/BM003_4PL.wmv',\n",
              " '/content/drive/MyDrive/Videos/Videos/BF033_4PL.wmv',\n",
              " '/content/drive/MyDrive/Videos/Videos/BM003_2NL.wmv',\n",
              " '/content/drive/MyDrive/Videos/Videos/BM004_2NL.wmv',\n",
              " '/content/drive/MyDrive/Videos/Videos/BM003_3NT.wmv',\n",
              " '/content/drive/MyDrive/Videos/Videos/BM003_1PT.wmv',\n",
              " '/content/drive/MyDrive/Videos/Videos/BM004_1PT.wmv',\n",
              " '/content/drive/MyDrive/Videos/Videos/BM006_1PT.wmv',\n",
              " '/content/drive/MyDrive/Videos/Videos/BM005_4PL.wmv',\n",
              " '/content/drive/MyDrive/Videos/Videos/BM005_3NT.wmv',\n",
              " '/content/drive/MyDrive/Videos/Videos/BM004_3NT.wmv',\n",
              " '/content/drive/MyDrive/Videos/Videos/BM005_2NL.wmv',\n",
              " '/content/drive/MyDrive/Videos/Videos/BM004_4PL.wmv',\n",
              " '/content/drive/MyDrive/Videos/Videos/BM005_1PT.wmv',\n",
              " '/content/drive/MyDrive/Videos/Videos/BM006_4PL.wmv',\n",
              " '/content/drive/MyDrive/Videos/Videos/BM006_3NT.wmv',\n",
              " '/content/drive/MyDrive/Videos/Videos/BM007_4PL.wmv',\n",
              " '/content/drive/MyDrive/Videos/Videos/BM007_2NL.wmv',\n",
              " '/content/drive/MyDrive/Videos/Videos/BM007_1PT.wmv',\n",
              " '/content/drive/MyDrive/Videos/Videos/BM007_3NT.wmv',\n",
              " '/content/drive/MyDrive/Videos/Videos/BM006_2NL.wmv',\n",
              " '/content/drive/MyDrive/Videos/Videos/BM008_2NL.wmv',\n",
              " '/content/drive/MyDrive/Videos/Videos/BM009_2NL.wmv',\n",
              " '/content/drive/MyDrive/Videos/Videos/BM009_1PT.wmv',\n",
              " '/content/drive/MyDrive/Videos/Videos/BM008_3NT.wmv',\n",
              " '/content/drive/MyDrive/Videos/Videos/BM008_1PT.wmv',\n",
              " '/content/drive/MyDrive/Videos/Videos/BM008_4PL.wmv',\n",
              " '/content/drive/MyDrive/Videos/Videos/BM010_4PL.wmv',\n",
              " '/content/drive/MyDrive/Videos/Videos/BM010_1PT.wmv',\n",
              " '/content/drive/MyDrive/Videos/Videos/BM009_3NT.wmv',\n",
              " '/content/drive/MyDrive/Videos/Videos/BM010_2NL.wmv',\n",
              " '/content/drive/MyDrive/Videos/Videos/BM009_4PL.wmv',\n",
              " '/content/drive/MyDrive/Videos/Videos/BM010_3NT.wmv',\n",
              " '/content/drive/MyDrive/Videos/Videos/BM013_3NT.wmv',\n",
              " '/content/drive/MyDrive/Videos/Videos/BM012_1PT.wmv',\n",
              " '/content/drive/MyDrive/Videos/Videos/BM013_2NL.wmv',\n",
              " '/content/drive/MyDrive/Videos/Videos/BM013_1PT.wmv',\n",
              " '/content/drive/MyDrive/Videos/Videos/BM012_3NT.wmv',\n",
              " '/content/drive/MyDrive/Videos/Videos/BM012_4PL.wmv',\n",
              " '/content/drive/MyDrive/Videos/Videos/BM012_2NL.wmv',\n",
              " '/content/drive/MyDrive/Videos/Videos/BM014_1PT.wmv',\n",
              " '/content/drive/MyDrive/Videos/Videos/BM014_3NT.wmv',\n",
              " '/content/drive/MyDrive/Videos/Videos/BM014_2NL.wmv',\n",
              " '/content/drive/MyDrive/Videos/Videos/BM014_4PL.wmv',\n",
              " '/content/drive/MyDrive/Videos/Videos/BM013_4PL.wmv',\n",
              " '/content/drive/MyDrive/Videos/Videos/BM015_1PT.wmv',\n",
              " '/content/drive/MyDrive/Videos/Videos/BM016_4PL.wmv',\n",
              " '/content/drive/MyDrive/Videos/Videos/BM016_1PT.wmv',\n",
              " '/content/drive/MyDrive/Videos/Videos/BM015_4PL.wmv',\n",
              " '/content/drive/MyDrive/Videos/Videos/BM016_3NT.wmv',\n",
              " '/content/drive/MyDrive/Videos/Videos/BM015_3NT.wmv',\n",
              " '/content/drive/MyDrive/Videos/Videos/BM015_2NL.wmv',\n",
              " '/content/drive/MyDrive/Videos/Videos/BM016_2NL.wmv',\n",
              " '/content/drive/MyDrive/Videos/Videos/BM018_4PL.wmv',\n",
              " '/content/drive/MyDrive/Videos/Videos/BM017_2NL.wmv',\n",
              " '/content/drive/MyDrive/Videos/Videos/BM017_1PT.wmv',\n",
              " '/content/drive/MyDrive/Videos/Videos/BM020_3NT.wmv',\n",
              " '/content/drive/MyDrive/Videos/Videos/BM018_1PT.wmv',\n",
              " '/content/drive/MyDrive/Videos/Videos/BM018_3NT.wmv',\n",
              " '/content/drive/MyDrive/Videos/Videos/BM017_3NT.wmv',\n",
              " '/content/drive/MyDrive/Videos/Videos/BM018_2NL.wmv',\n",
              " '/content/drive/MyDrive/Videos/Videos/BM020_1PT.wmv',\n",
              " '/content/drive/MyDrive/Videos/Videos/BM017_4PL.wmv',\n",
              " '/content/drive/MyDrive/Videos/Videos/BM020_2NL.wmv',\n",
              " '/content/drive/MyDrive/Videos/Videos/BM026_4PL.wmv',\n",
              " '/content/drive/MyDrive/Videos/Videos/BM026_2NL.wmv',\n",
              " '/content/drive/MyDrive/Videos/Videos/BM026_1PT.wmv',\n",
              " '/content/drive/MyDrive/Videos/Videos/BM024_2NL.wmv',\n",
              " '/content/drive/MyDrive/Videos/Videos/BM024_3NT.wmv',\n",
              " '/content/drive/MyDrive/Videos/Videos/WF002_1PT.wmv',\n",
              " '/content/drive/MyDrive/Videos/Videos/BM027_1PT.wmv',\n",
              " '/content/drive/MyDrive/Videos/Videos/BM027_2NL.wmv',\n",
              " '/content/drive/MyDrive/Videos/Videos/BM024_4PL.wmv',\n",
              " '/content/drive/MyDrive/Videos/Videos/BM020_4PL.wmv',\n",
              " '/content/drive/MyDrive/Videos/Videos/BM021_4PL.wmv',\n",
              " '/content/drive/MyDrive/Videos/Videos/BM021_2NL.wmv',\n",
              " '/content/drive/MyDrive/Videos/Videos/BM021_1PT.wmv',\n",
              " '/content/drive/MyDrive/Videos/Videos/BM026_3NT.wmv',\n",
              " '/content/drive/MyDrive/Videos/Videos/WF002_2NL.wmv',\n",
              " '/content/drive/MyDrive/Videos/Videos/BM021_3NT.wmv',\n",
              " '/content/drive/MyDrive/Videos/Videos/BM027_3NT.wmv',\n",
              " '/content/drive/MyDrive/Videos/Videos/BM027_4PL.wmv',\n",
              " '/content/drive/MyDrive/Videos/Videos/WF002_3NT.wmv',\n",
              " '/content/drive/MyDrive/Videos/Videos/BM024_1PT.wmv',\n",
              " '/content/drive/MyDrive/Videos/Videos/WF007_1PT.wmv',\n",
              " '/content/drive/MyDrive/Videos/Videos/WF003_2NL.wmv',\n",
              " '/content/drive/MyDrive/Videos/Videos/WF005_4PL.wmv',\n",
              " '/content/drive/MyDrive/Videos/Videos/WF005_3NT.wmv',\n",
              " '/content/drive/MyDrive/Videos/Videos/WF003_3NT.wmv',\n",
              " '/content/drive/MyDrive/Videos/Videos/WF007_2NL.wmv',\n",
              " '/content/drive/MyDrive/Videos/Videos/WF003_1PT.wmv',\n",
              " '/content/drive/MyDrive/Videos/Videos/WF007_3NT.wmv',\n",
              " '/content/drive/MyDrive/Videos/Videos/WF006_2NL.wmv',\n",
              " '/content/drive/MyDrive/Videos/Videos/WF009_2NL.wmv',\n",
              " '/content/drive/MyDrive/Videos/Videos/WF006_3NT.wmv',\n",
              " '/content/drive/MyDrive/Videos/Videos/WF009_1PT.wmv',\n",
              " '/content/drive/MyDrive/Videos/Videos/WF010_1PT.wmv',\n",
              " '/content/drive/MyDrive/Videos/Videos/WF003_4PL.wmv',\n",
              " '/content/drive/MyDrive/Videos/Videos/WF005_2NL.wmv',\n",
              " '/content/drive/MyDrive/Videos/Videos/WF005_1PT.wmv',\n",
              " '/content/drive/MyDrive/Videos/Videos/WF002_4PL.wmv',\n",
              " '/content/drive/MyDrive/Videos/Videos/WF009_4PL.wmv',\n",
              " '/content/drive/MyDrive/Videos/Videos/WF006_1PT.wmv',\n",
              " '/content/drive/MyDrive/Videos/Videos/WF009_3NT.wmv',\n",
              " '/content/drive/MyDrive/Videos/Videos/WF007_4PL.wmv',\n",
              " '/content/drive/MyDrive/Videos/Videos/WF006_4PL.wmv',\n",
              " '/content/drive/MyDrive/Videos/Videos/WF013_3NT.wmv',\n",
              " '/content/drive/MyDrive/Videos/Videos/WF014_4PL.wmv',\n",
              " '/content/drive/MyDrive/Videos/Videos/WF010_4PL.wmv',\n",
              " '/content/drive/MyDrive/Videos/Videos/WF014_2NL.wmv',\n",
              " '/content/drive/MyDrive/Videos/Videos/WF011_2NL.wmv',\n",
              " '/content/drive/MyDrive/Videos/Videos/WF014_3NT.wmv',\n",
              " '/content/drive/MyDrive/Videos/Videos/WF013_1PT.wmv',\n",
              " '/content/drive/MyDrive/Videos/Videos/WF012_3NT.wmv',\n",
              " '/content/drive/MyDrive/Videos/Videos/WF013_4PL.wmv',\n",
              " '/content/drive/MyDrive/Videos/Videos/WF012_4PL.wmv',\n",
              " '/content/drive/MyDrive/Videos/Videos/WF011_1PT.wmv',\n",
              " '/content/drive/MyDrive/Videos/Videos/WF014_1PT.wmv',\n",
              " '/content/drive/MyDrive/Videos/Videos/WF010_3NT.wmv',\n",
              " '/content/drive/MyDrive/Videos/Videos/WF010_2NL.wmv',\n",
              " '/content/drive/MyDrive/Videos/Videos/WF011_3NT.wmv',\n",
              " '/content/drive/MyDrive/Videos/Videos/WF012_2NL.wmv',\n",
              " '/content/drive/MyDrive/Videos/Videos/WF013_2NL.wmv',\n",
              " '/content/drive/MyDrive/Videos/Videos/WF016_1PT.wmv',\n",
              " '/content/drive/MyDrive/Videos/Videos/WF016_2NL.wmv',\n",
              " '/content/drive/MyDrive/Videos/Videos/WF011_4PL.wmv',\n",
              " '/content/drive/MyDrive/Videos/Videos/WF012_1PT.wmv',\n",
              " '/content/drive/MyDrive/Videos/Videos/WF016_3NT.wmv',\n",
              " '/content/drive/MyDrive/Videos/Videos/WF021_2NL.wmv',\n",
              " '/content/drive/MyDrive/Videos/Videos/WF022_1PT.wmv',\n",
              " '/content/drive/MyDrive/Videos/Videos/WF019_3NT.wmv',\n",
              " '/content/drive/MyDrive/Videos/Videos/WF017_1PT.wmv',\n",
              " '/content/drive/MyDrive/Videos/Videos/WF017_3NT.wmv',\n",
              " '/content/drive/MyDrive/Videos/Videos/WF018_4PL.wmv',\n",
              " '/content/drive/MyDrive/Videos/Videos/WF016_4PL.wmv',\n",
              " '/content/drive/MyDrive/Videos/Videos/WF021_4PL.wmv',\n",
              " '/content/drive/MyDrive/Videos/Videos/WF017_4PL.wmv',\n",
              " '/content/drive/MyDrive/Videos/Videos/WF021_1PT.wmv',\n",
              " '/content/drive/MyDrive/Videos/Videos/WF019_2NL.wmv',\n",
              " '/content/drive/MyDrive/Videos/Videos/WF022_2NL.wmv',\n",
              " '/content/drive/MyDrive/Videos/Videos/WF019_1PT.wmv',\n",
              " '/content/drive/MyDrive/Videos/Videos/WF017_2NL.wmv',\n",
              " '/content/drive/MyDrive/Videos/Videos/WF018_3NT.wmv',\n",
              " '/content/drive/MyDrive/Videos/Videos/WF018_1PT.wmv',\n",
              " '/content/drive/MyDrive/Videos/Videos/WF021_3NT.wmv',\n",
              " '/content/drive/MyDrive/Videos/Videos/WF018_2NL.wmv',\n",
              " '/content/drive/MyDrive/Videos/Videos/WF019_4PL.wmv',\n",
              " '/content/drive/MyDrive/Videos/Videos/WF023_4PL.wmv',\n",
              " '/content/drive/MyDrive/Videos/Videos/WF022_4PL.wmv',\n",
              " '/content/drive/MyDrive/Videos/Videos/WF024_3NT.wmv',\n",
              " '/content/drive/MyDrive/Videos/Videos/WF023_1PT.wmv',\n",
              " '/content/drive/MyDrive/Videos/Videos/WF025_2NL.wmv',\n",
              " '/content/drive/MyDrive/Videos/Videos/WM001_2NL.wmv',\n",
              " '/content/drive/MyDrive/Videos/Videos/WF024_1PT.wmv',\n",
              " '/content/drive/MyDrive/Videos/Videos/WF025_3NT.wmv',\n",
              " '/content/drive/MyDrive/Videos/Videos/WF024_2NL.wmv',\n",
              " '/content/drive/MyDrive/Videos/Videos/WF025_1PT.wmv',\n",
              " '/content/drive/MyDrive/Videos/Videos/WF025_4PL.wmv',\n",
              " '/content/drive/MyDrive/Videos/Videos/WF024_4PL.wmv',\n",
              " '/content/drive/MyDrive/Videos/Videos/WF023_3NT.wmv',\n",
              " '/content/drive/MyDrive/Videos/Videos/WM001_3NT.wmv',\n",
              " '/content/drive/MyDrive/Videos/Videos/WF022_3NT.wmv',\n",
              " '/content/drive/MyDrive/Videos/Videos/WF023_2NL.wmv',\n",
              " '/content/drive/MyDrive/Videos/Videos/WM002_2NL.wmv',\n",
              " '/content/drive/MyDrive/Videos/Videos/WM005_2NL.wmv',\n",
              " '/content/drive/MyDrive/Videos/Videos/WM002_3NT.wmv',\n",
              " '/content/drive/MyDrive/Videos/Videos/WM001_PT.wmv',\n",
              " '/content/drive/MyDrive/Videos/Videos/WM001_4PL.wmv',\n",
              " '/content/drive/MyDrive/Videos/Videos/WM002_4PL.wmv',\n",
              " '/content/drive/MyDrive/Videos/Videos/WM005_1PT.wmv',\n",
              " '/content/drive/MyDrive/Videos/Videos/WM002_1PT.wmv',\n",
              " '/content/drive/MyDrive/Videos/Videos/WM006_4PL.wmv',\n",
              " '/content/drive/MyDrive/Videos/Videos/WM006_2NL.wmv',\n",
              " '/content/drive/MyDrive/Videos/Videos/WM005_4PL.wmv',\n",
              " '/content/drive/MyDrive/Videos/Videos/WM006_1PT.wmv',\n",
              " '/content/drive/MyDrive/Videos/Videos/WM006_3NT.wmv',\n",
              " '/content/drive/MyDrive/Videos/Videos/WM005_3NT.wmv',\n",
              " '/content/drive/MyDrive/Videos/Videos/WM007_1PT.wmv',\n",
              " '/content/drive/MyDrive/Videos/Videos/WM007_3NT.wmv',\n",
              " '/content/drive/MyDrive/Videos/Videos/WM007_2NL.wmv',\n",
              " '/content/drive/MyDrive/Videos/Videos/WM007_4PL.wmv',\n",
              " '/content/drive/MyDrive/Videos/Videos/WM008_1PT.wmv',\n",
              " '/content/drive/MyDrive/Videos/Videos/WM009_1PT.wmv',\n",
              " '/content/drive/MyDrive/Videos/Videos/WM008_2NL.wmv',\n",
              " '/content/drive/MyDrive/Videos/Videos/WM008_3NT.wmv',\n",
              " '/content/drive/MyDrive/Videos/Videos/WM008_4PL.wmv',\n",
              " '/content/drive/MyDrive/Videos/Videos/WM009_2NL.wmv',\n",
              " '/content/drive/MyDrive/Videos/Videos/WM009_4PL.wmv',\n",
              " '/content/drive/MyDrive/Videos/Videos/WM011_4PL.wmv',\n",
              " '/content/drive/MyDrive/Videos/Videos/WM009_3NT.wmv',\n",
              " '/content/drive/MyDrive/Videos/Videos/WM011_1PT.wmv',\n",
              " '/content/drive/MyDrive/Videos/Videos/WM011_3NT.wmv',\n",
              " '/content/drive/MyDrive/Videos/Videos/WM011_2NL.wmv',\n",
              " '/content/drive/MyDrive/Videos/Videos/WM014_3NT.wmv',\n",
              " '/content/drive/MyDrive/Videos/Videos/WM013_2NL.wmv',\n",
              " '/content/drive/MyDrive/Videos/Videos/WM013_4PL.wmv',\n",
              " '/content/drive/MyDrive/Videos/Videos/WM014_1PT.wmv',\n",
              " '/content/drive/MyDrive/Videos/Videos/WM013_1PT.wmv',\n",
              " '/content/drive/MyDrive/Videos/Videos/WM014_2NL.wmv',\n",
              " '/content/drive/MyDrive/Videos/Videos/WM016_1PT.wmv',\n",
              " '/content/drive/MyDrive/Videos/Videos/WM014_4PL.wmv',\n",
              " '/content/drive/MyDrive/Videos/Videos/WM017_1PT.wmv',\n",
              " '/content/drive/MyDrive/Videos/Videos/WM016_3NT.wmv',\n",
              " '/content/drive/MyDrive/Videos/Videos/WM016_2NL.wmv',\n",
              " '/content/drive/MyDrive/Videos/Videos/WM016_4PL.wmv',\n",
              " '/content/drive/MyDrive/Videos/Videos/WM017_2NL.wmv',\n",
              " '/content/drive/MyDrive/Videos/Videos/WM017_3NT.wmv',\n",
              " '/content/drive/MyDrive/Videos/Videos/WM018_3NT.wmv',\n",
              " '/content/drive/MyDrive/Videos/Videos/WM017_4PL.wmv',\n",
              " '/content/drive/MyDrive/Videos/Videos/WM018_2NL.wmv',\n",
              " '/content/drive/MyDrive/Videos/Videos/WM018_4PL.wmv',\n",
              " '/content/drive/MyDrive/Videos/Videos/WM018_1PT.wmv',\n",
              " '/content/drive/MyDrive/Videos/Videos/WM019_2NL.wmv',\n",
              " '/content/drive/MyDrive/Videos/Videos/WM020_4PL.wmv',\n",
              " '/content/drive/MyDrive/Videos/Videos/WM019_1PT.wmv',\n",
              " '/content/drive/MyDrive/Videos/Videos/WM020_3NT.wmv',\n",
              " '/content/drive/MyDrive/Videos/Videos/WM020_2NL.wmv',\n",
              " '/content/drive/MyDrive/Videos/Videos/WM020_1PT.wmv',\n",
              " '/content/drive/MyDrive/Videos/Videos/WM021_3NT.wmv',\n",
              " '/content/drive/MyDrive/Videos/Videos/WM021_4PL.wmv',\n",
              " '/content/drive/MyDrive/Videos/Videos/WM021_2NL.wmv',\n",
              " '/content/drive/MyDrive/Videos/Videos/WM022_2NL.wmv',\n",
              " '/content/drive/MyDrive/Videos/Videos/WM021_1PT.wmv',\n",
              " '/content/drive/MyDrive/Videos/Videos/WM022_1PT.wmv',\n",
              " '/content/drive/MyDrive/Videos/Videos/WM022_3NT.wmv',\n",
              " '/content/drive/MyDrive/Videos/Videos/WM024_3NT.wmv',\n",
              " '/content/drive/MyDrive/Videos/Videos/WM024_1PT.wmv',\n",
              " '/content/drive/MyDrive/Videos/Videos/WM024_4PL.wmv',\n",
              " '/content/drive/MyDrive/Videos/Videos/WM022_4PL.wmv',\n",
              " '/content/drive/MyDrive/Videos/Videos/WM024_2NL.wmv',\n",
              " '/content/drive/MyDrive/Videos/Videos/WM026_1PT.wmv',\n",
              " '/content/drive/MyDrive/Videos/Videos/WM027_1PT.wmv',\n",
              " '/content/drive/MyDrive/Videos/Videos/WM026_4PL.wmv',\n",
              " '/content/drive/MyDrive/Videos/Videos/WM026_3NT.wmv',\n",
              " '/content/drive/MyDrive/Videos/Videos/WM026_2NL.wmv',\n",
              " '/content/drive/MyDrive/Videos/Videos/WM027_2NL.wmv',\n",
              " '/content/drive/MyDrive/Videos/Videos/WM13_3NT.wmv',\n",
              " '/content/drive/MyDrive/Videos/Videos/WM19_3NT.wmv',\n",
              " '/content/drive/MyDrive/Videos/Videos/WM19_4PL.wmv',\n",
              " '/content/drive/MyDrive/Videos/Videos/WM027_3NT.wmv',\n",
              " '/content/drive/MyDrive/Videos/Videos/WM027_4PL.wmv']"
            ]
          },
          "metadata": {},
          "execution_count": 4
        }
      ]
    },
    {
      "cell_type": "markdown",
      "source": [
        "# save it to CSV file named Train"
      ],
      "metadata": {
        "id": "lRhFkYQd8bRt"
      }
    },
    {
      "cell_type": "code",
      "source": [
        "df = train_df.loc[:,['video_name','tag']]\n",
        "df\n",
        "df.to_csv('train.csv')"
      ],
      "metadata": {
        "id": "vF6eLQjFa5V3"
      },
      "execution_count": 5,
      "outputs": []
    },
    {
      "cell_type": "markdown",
      "source": [
        "# install-import the tensorflow docs, tagging of videoids are done"
      ],
      "metadata": {
        "id": "1wIgLCwL8qre"
      }
    },
    {
      "cell_type": "code",
      "source": [
        "!pip install git+https://github.com/tensorflow/docs"
      ],
      "metadata": {
        "colab": {
          "base_uri": "https://localhost:8080/"
        },
        "id": "wYT-8XGaaG8n",
        "outputId": "0d514d15-222b-4a45-f6d5-0245eb60359b"
      },
      "execution_count": 6,
      "outputs": [
        {
          "output_type": "stream",
          "name": "stdout",
          "text": [
            "Looking in indexes: https://pypi.org/simple, https://us-python.pkg.dev/colab-wheels/public/simple/\n",
            "Collecting git+https://github.com/tensorflow/docs\n",
            "  Cloning https://github.com/tensorflow/docs to /tmp/pip-req-build-62jbp63w\n",
            "  Running command git clone --filter=blob:none --quiet https://github.com/tensorflow/docs /tmp/pip-req-build-62jbp63w\n",
            "  Resolved https://github.com/tensorflow/docs to commit abfbe6e54864baa38dbb985b984acd304be610d4\n",
            "  Preparing metadata (setup.py) ... \u001b[?25l\u001b[?25hdone\n",
            "Collecting astor\n",
            "  Downloading astor-0.8.1-py2.py3-none-any.whl (27 kB)\n",
            "Requirement already satisfied: absl-py in /usr/local/lib/python3.10/dist-packages (from tensorflow-docs==0.0.0.dev0) (1.4.0)\n",
            "Requirement already satisfied: jinja2 in /usr/local/lib/python3.10/dist-packages (from tensorflow-docs==0.0.0.dev0) (3.1.2)\n",
            "Requirement already satisfied: nbformat in /usr/local/lib/python3.10/dist-packages (from tensorflow-docs==0.0.0.dev0) (5.8.0)\n",
            "Requirement already satisfied: protobuf>=3.12 in /usr/local/lib/python3.10/dist-packages (from tensorflow-docs==0.0.0.dev0) (3.20.3)\n",
            "Requirement already satisfied: pyyaml in /usr/local/lib/python3.10/dist-packages (from tensorflow-docs==0.0.0.dev0) (6.0)\n",
            "Requirement already satisfied: MarkupSafe>=2.0 in /usr/local/lib/python3.10/dist-packages (from jinja2->tensorflow-docs==0.0.0.dev0) (2.1.2)\n",
            "Requirement already satisfied: jsonschema>=2.6 in /usr/local/lib/python3.10/dist-packages (from nbformat->tensorflow-docs==0.0.0.dev0) (4.3.3)\n",
            "Requirement already satisfied: traitlets>=5.1 in /usr/local/lib/python3.10/dist-packages (from nbformat->tensorflow-docs==0.0.0.dev0) (5.7.1)\n",
            "Requirement already satisfied: fastjsonschema in /usr/local/lib/python3.10/dist-packages (from nbformat->tensorflow-docs==0.0.0.dev0) (2.16.3)\n",
            "Requirement already satisfied: jupyter-core in /usr/local/lib/python3.10/dist-packages (from nbformat->tensorflow-docs==0.0.0.dev0) (5.3.0)\n",
            "Requirement already satisfied: attrs>=17.4.0 in /usr/local/lib/python3.10/dist-packages (from jsonschema>=2.6->nbformat->tensorflow-docs==0.0.0.dev0) (23.1.0)\n",
            "Requirement already satisfied: pyrsistent!=0.17.0,!=0.17.1,!=0.17.2,>=0.14.0 in /usr/local/lib/python3.10/dist-packages (from jsonschema>=2.6->nbformat->tensorflow-docs==0.0.0.dev0) (0.19.3)\n",
            "Requirement already satisfied: platformdirs>=2.5 in /usr/local/lib/python3.10/dist-packages (from jupyter-core->nbformat->tensorflow-docs==0.0.0.dev0) (3.3.0)\n",
            "Building wheels for collected packages: tensorflow-docs\n",
            "  Building wheel for tensorflow-docs (setup.py) ... \u001b[?25l\u001b[?25hdone\n",
            "  Created wheel for tensorflow-docs: filename=tensorflow_docs-0.0.0.dev0-py3-none-any.whl size=183273 sha256=3ad6d096140fa0ad41ae3f4c8dd539a9ebbe16ab6c8acf3e463b5e792b560bff\n",
            "  Stored in directory: /tmp/pip-ephem-wheel-cache-7qsao78y/wheels/86/0f/1e/3b62293c8ffd0fd5a49508e6871cdb7554abe9c62afd35ec53\n",
            "Successfully built tensorflow-docs\n",
            "Installing collected packages: astor, tensorflow-docs\n",
            "Successfully installed astor-0.8.1 tensorflow-docs-0.0.0.dev0\n"
          ]
        }
      ]
    },
    {
      "cell_type": "code",
      "source": [
        "  from tensorflow_docs.vis import embed\n",
        "  from tensorflow import keras\n",
        "  from imutils import paths\n",
        "\n",
        "  import matplotlib.pyplot as plt\n",
        "  import tensorflow as tf\n",
        "  import pandas as pd\n",
        "  import numpy as np\n",
        "  import imageio\n",
        "  import cv2\n",
        "  import os"
      ],
      "metadata": {
        "id": "g_VLHoIdXjfl"
      },
      "execution_count": 7,
      "outputs": []
    },
    {
      "cell_type": "code",
      "source": [
        "df['VideoID']=1\n",
        "df"
      ],
      "metadata": {
        "colab": {
          "base_uri": "https://localhost:8080/",
          "height": 424
        },
        "id": "4j7ko0moZxuQ",
        "outputId": "16868692-9bb3-4966-ad88-d71caeeae8bb"
      },
      "execution_count": null,
      "outputs": [
        {
          "output_type": "execute_result",
          "data": {
            "text/plain": [
              "                                            video_name            tag  VideoID\n",
              "0    /content/drive/MyDrive/Videos/Videos/BF001_1PT...  BF001_1PT.wmv        1\n",
              "1    /content/drive/MyDrive/Videos/Videos/BF028_4PL...  BF028_4PL.wmv        1\n",
              "2    /content/drive/MyDrive/Videos/Videos/BF033_1PT...  BF033_1PT.wmv        1\n",
              "3    /content/drive/MyDrive/Videos/Videos/BF033_2NL...  BF033_2NL.wmv        1\n",
              "4    /content/drive/MyDrive/Videos/Videos/BF033_3NT...  BF033_3NT.wmv        1\n",
              "..                                                 ...            ...      ...\n",
              "316  /content/drive/MyDrive/Videos/Videos/WM19_3NT.wmv   WM19_3NT.wmv        1\n",
              "317  /content/drive/MyDrive/Videos/Videos/WM19_4PL.wmv   WM19_4PL.wmv        1\n",
              "318  /content/drive/MyDrive/Videos/Videos/WM13_3NT.wmv   WM13_3NT.wmv        1\n",
              "319  /content/drive/MyDrive/Videos/Videos/WM027_4PL...  WM027_4PL.wmv        1\n",
              "320  /content/drive/MyDrive/Videos/Videos/WF010_4PL...  WF010_4PL.wmv        1\n",
              "\n",
              "[321 rows x 3 columns]"
            ],
            "text/html": [
              "\n",
              "  <div id=\"df-34f3c7c0-1add-45d4-8f80-a5fcb24c9bb8\">\n",
              "    <div class=\"colab-df-container\">\n",
              "      <div>\n",
              "<style scoped>\n",
              "    .dataframe tbody tr th:only-of-type {\n",
              "        vertical-align: middle;\n",
              "    }\n",
              "\n",
              "    .dataframe tbody tr th {\n",
              "        vertical-align: top;\n",
              "    }\n",
              "\n",
              "    .dataframe thead th {\n",
              "        text-align: right;\n",
              "    }\n",
              "</style>\n",
              "<table border=\"1\" class=\"dataframe\">\n",
              "  <thead>\n",
              "    <tr style=\"text-align: right;\">\n",
              "      <th></th>\n",
              "      <th>video_name</th>\n",
              "      <th>tag</th>\n",
              "      <th>VideoID</th>\n",
              "    </tr>\n",
              "  </thead>\n",
              "  <tbody>\n",
              "    <tr>\n",
              "      <th>0</th>\n",
              "      <td>/content/drive/MyDrive/Videos/Videos/BF001_1PT...</td>\n",
              "      <td>BF001_1PT.wmv</td>\n",
              "      <td>1</td>\n",
              "    </tr>\n",
              "    <tr>\n",
              "      <th>1</th>\n",
              "      <td>/content/drive/MyDrive/Videos/Videos/BF028_4PL...</td>\n",
              "      <td>BF028_4PL.wmv</td>\n",
              "      <td>1</td>\n",
              "    </tr>\n",
              "    <tr>\n",
              "      <th>2</th>\n",
              "      <td>/content/drive/MyDrive/Videos/Videos/BF033_1PT...</td>\n",
              "      <td>BF033_1PT.wmv</td>\n",
              "      <td>1</td>\n",
              "    </tr>\n",
              "    <tr>\n",
              "      <th>3</th>\n",
              "      <td>/content/drive/MyDrive/Videos/Videos/BF033_2NL...</td>\n",
              "      <td>BF033_2NL.wmv</td>\n",
              "      <td>1</td>\n",
              "    </tr>\n",
              "    <tr>\n",
              "      <th>4</th>\n",
              "      <td>/content/drive/MyDrive/Videos/Videos/BF033_3NT...</td>\n",
              "      <td>BF033_3NT.wmv</td>\n",
              "      <td>1</td>\n",
              "    </tr>\n",
              "    <tr>\n",
              "      <th>...</th>\n",
              "      <td>...</td>\n",
              "      <td>...</td>\n",
              "      <td>...</td>\n",
              "    </tr>\n",
              "    <tr>\n",
              "      <th>316</th>\n",
              "      <td>/content/drive/MyDrive/Videos/Videos/WM19_3NT.wmv</td>\n",
              "      <td>WM19_3NT.wmv</td>\n",
              "      <td>1</td>\n",
              "    </tr>\n",
              "    <tr>\n",
              "      <th>317</th>\n",
              "      <td>/content/drive/MyDrive/Videos/Videos/WM19_4PL.wmv</td>\n",
              "      <td>WM19_4PL.wmv</td>\n",
              "      <td>1</td>\n",
              "    </tr>\n",
              "    <tr>\n",
              "      <th>318</th>\n",
              "      <td>/content/drive/MyDrive/Videos/Videos/WM13_3NT.wmv</td>\n",
              "      <td>WM13_3NT.wmv</td>\n",
              "      <td>1</td>\n",
              "    </tr>\n",
              "    <tr>\n",
              "      <th>319</th>\n",
              "      <td>/content/drive/MyDrive/Videos/Videos/WM027_4PL...</td>\n",
              "      <td>WM027_4PL.wmv</td>\n",
              "      <td>1</td>\n",
              "    </tr>\n",
              "    <tr>\n",
              "      <th>320</th>\n",
              "      <td>/content/drive/MyDrive/Videos/Videos/WF010_4PL...</td>\n",
              "      <td>WF010_4PL.wmv</td>\n",
              "      <td>1</td>\n",
              "    </tr>\n",
              "  </tbody>\n",
              "</table>\n",
              "<p>321 rows × 3 columns</p>\n",
              "</div>\n",
              "      <button class=\"colab-df-convert\" onclick=\"convertToInteractive('df-34f3c7c0-1add-45d4-8f80-a5fcb24c9bb8')\"\n",
              "              title=\"Convert this dataframe to an interactive table.\"\n",
              "              style=\"display:none;\">\n",
              "        \n",
              "  <svg xmlns=\"http://www.w3.org/2000/svg\" height=\"24px\"viewBox=\"0 0 24 24\"\n",
              "       width=\"24px\">\n",
              "    <path d=\"M0 0h24v24H0V0z\" fill=\"none\"/>\n",
              "    <path d=\"M18.56 5.44l.94 2.06.94-2.06 2.06-.94-2.06-.94-.94-2.06-.94 2.06-2.06.94zm-11 1L8.5 8.5l.94-2.06 2.06-.94-2.06-.94L8.5 2.5l-.94 2.06-2.06.94zm10 10l.94 2.06.94-2.06 2.06-.94-2.06-.94-.94-2.06-.94 2.06-2.06.94z\"/><path d=\"M17.41 7.96l-1.37-1.37c-.4-.4-.92-.59-1.43-.59-.52 0-1.04.2-1.43.59L10.3 9.45l-7.72 7.72c-.78.78-.78 2.05 0 2.83L4 21.41c.39.39.9.59 1.41.59.51 0 1.02-.2 1.41-.59l7.78-7.78 2.81-2.81c.8-.78.8-2.07 0-2.86zM5.41 20L4 18.59l7.72-7.72 1.47 1.35L5.41 20z\"/>\n",
              "  </svg>\n",
              "      </button>\n",
              "      \n",
              "  <style>\n",
              "    .colab-df-container {\n",
              "      display:flex;\n",
              "      flex-wrap:wrap;\n",
              "      gap: 12px;\n",
              "    }\n",
              "\n",
              "    .colab-df-convert {\n",
              "      background-color: #E8F0FE;\n",
              "      border: none;\n",
              "      border-radius: 50%;\n",
              "      cursor: pointer;\n",
              "      display: none;\n",
              "      fill: #1967D2;\n",
              "      height: 32px;\n",
              "      padding: 0 0 0 0;\n",
              "      width: 32px;\n",
              "    }\n",
              "\n",
              "    .colab-df-convert:hover {\n",
              "      background-color: #E2EBFA;\n",
              "      box-shadow: 0px 1px 2px rgba(60, 64, 67, 0.3), 0px 1px 3px 1px rgba(60, 64, 67, 0.15);\n",
              "      fill: #174EA6;\n",
              "    }\n",
              "\n",
              "    [theme=dark] .colab-df-convert {\n",
              "      background-color: #3B4455;\n",
              "      fill: #D2E3FC;\n",
              "    }\n",
              "\n",
              "    [theme=dark] .colab-df-convert:hover {\n",
              "      background-color: #434B5C;\n",
              "      box-shadow: 0px 1px 3px 1px rgba(0, 0, 0, 0.15);\n",
              "      filter: drop-shadow(0px 1px 2px rgba(0, 0, 0, 0.3));\n",
              "      fill: #FFFFFF;\n",
              "    }\n",
              "  </style>\n",
              "\n",
              "      <script>\n",
              "        const buttonEl =\n",
              "          document.querySelector('#df-34f3c7c0-1add-45d4-8f80-a5fcb24c9bb8 button.colab-df-convert');\n",
              "        buttonEl.style.display =\n",
              "          google.colab.kernel.accessAllowed ? 'block' : 'none';\n",
              "\n",
              "        async function convertToInteractive(key) {\n",
              "          const element = document.querySelector('#df-34f3c7c0-1add-45d4-8f80-a5fcb24c9bb8');\n",
              "          const dataTable =\n",
              "            await google.colab.kernel.invokeFunction('convertToInteractive',\n",
              "                                                     [key], {});\n",
              "          if (!dataTable) return;\n",
              "\n",
              "          const docLinkHtml = 'Like what you see? Visit the ' +\n",
              "            '<a target=\"_blank\" href=https://colab.research.google.com/notebooks/data_table.ipynb>data table notebook</a>'\n",
              "            + ' to learn more about interactive tables.';\n",
              "          element.innerHTML = '';\n",
              "          dataTable['output_type'] = 'display_data';\n",
              "          await google.colab.output.renderOutput(dataTable, element);\n",
              "          const docLink = document.createElement('div');\n",
              "          docLink.innerHTML = docLinkHtml;\n",
              "          element.appendChild(docLink);\n",
              "        }\n",
              "      </script>\n",
              "    </div>\n",
              "  </div>\n",
              "  "
            ]
          },
          "metadata": {},
          "execution_count": 9
        }
      ]
    },
    {
      "cell_type": "code",
      "source": [
        "for i in range(df.shape[0]):\n",
        "\n",
        "  df['VideoID'][i]=train_df['tag'][i][:-4]\n",
        "df"
      ],
      "metadata": {
        "colab": {
          "base_uri": "https://localhost:8080/",
          "height": 502
        },
        "id": "sL7iU-FB4Ukb",
        "outputId": "0cd76020-bb2e-42ff-d1f8-ee1555476031"
      },
      "execution_count": 10,
      "outputs": [
        {
          "output_type": "error",
          "ename": "KeyError",
          "evalue": "ignored",
          "traceback": [
            "\u001b[0;31m---------------------------------------------------------------------------\u001b[0m",
            "\u001b[0;31mKeyError\u001b[0m                                  Traceback (most recent call last)",
            "\u001b[0;32m/usr/local/lib/python3.10/dist-packages/pandas/core/indexes/base.py\u001b[0m in \u001b[0;36mget_loc\u001b[0;34m(self, key, method, tolerance)\u001b[0m\n\u001b[1;32m   3801\u001b[0m             \u001b[0;32mtry\u001b[0m\u001b[0;34m:\u001b[0m\u001b[0;34m\u001b[0m\u001b[0;34m\u001b[0m\u001b[0m\n\u001b[0;32m-> 3802\u001b[0;31m                 \u001b[0;32mreturn\u001b[0m \u001b[0mself\u001b[0m\u001b[0;34m.\u001b[0m\u001b[0m_engine\u001b[0m\u001b[0;34m.\u001b[0m\u001b[0mget_loc\u001b[0m\u001b[0;34m(\u001b[0m\u001b[0mcasted_key\u001b[0m\u001b[0;34m)\u001b[0m\u001b[0;34m\u001b[0m\u001b[0;34m\u001b[0m\u001b[0m\n\u001b[0m\u001b[1;32m   3803\u001b[0m             \u001b[0;32mexcept\u001b[0m \u001b[0mKeyError\u001b[0m \u001b[0;32mas\u001b[0m \u001b[0merr\u001b[0m\u001b[0;34m:\u001b[0m\u001b[0;34m\u001b[0m\u001b[0;34m\u001b[0m\u001b[0m\n",
            "\u001b[0;32m/usr/local/lib/python3.10/dist-packages/pandas/_libs/index.pyx\u001b[0m in \u001b[0;36mpandas._libs.index.IndexEngine.get_loc\u001b[0;34m()\u001b[0m\n",
            "\u001b[0;32m/usr/local/lib/python3.10/dist-packages/pandas/_libs/index.pyx\u001b[0m in \u001b[0;36mpandas._libs.index.IndexEngine.get_loc\u001b[0;34m()\u001b[0m\n",
            "\u001b[0;32mpandas/_libs/hashtable_class_helper.pxi\u001b[0m in \u001b[0;36mpandas._libs.hashtable.PyObjectHashTable.get_item\u001b[0;34m()\u001b[0m\n",
            "\u001b[0;32mpandas/_libs/hashtable_class_helper.pxi\u001b[0m in \u001b[0;36mpandas._libs.hashtable.PyObjectHashTable.get_item\u001b[0;34m()\u001b[0m\n",
            "\u001b[0;31mKeyError\u001b[0m: 'VideoID'",
            "\nThe above exception was the direct cause of the following exception:\n",
            "\u001b[0;31mKeyError\u001b[0m                                  Traceback (most recent call last)",
            "\u001b[0;32m<ipython-input-10-70a1a6c5310c>\u001b[0m in \u001b[0;36m<cell line: 1>\u001b[0;34m()\u001b[0m\n\u001b[1;32m      1\u001b[0m \u001b[0;32mfor\u001b[0m \u001b[0mi\u001b[0m \u001b[0;32min\u001b[0m \u001b[0mrange\u001b[0m\u001b[0;34m(\u001b[0m\u001b[0mdf\u001b[0m\u001b[0;34m.\u001b[0m\u001b[0mshape\u001b[0m\u001b[0;34m[\u001b[0m\u001b[0;36m0\u001b[0m\u001b[0;34m]\u001b[0m\u001b[0;34m)\u001b[0m\u001b[0;34m:\u001b[0m\u001b[0;34m\u001b[0m\u001b[0;34m\u001b[0m\u001b[0m\n\u001b[1;32m      2\u001b[0m \u001b[0;34m\u001b[0m\u001b[0m\n\u001b[0;32m----> 3\u001b[0;31m   \u001b[0mdf\u001b[0m\u001b[0;34m[\u001b[0m\u001b[0;34m'VideoID'\u001b[0m\u001b[0;34m]\u001b[0m\u001b[0;34m[\u001b[0m\u001b[0mi\u001b[0m\u001b[0;34m]\u001b[0m\u001b[0;34m=\u001b[0m\u001b[0mtrain_df\u001b[0m\u001b[0;34m[\u001b[0m\u001b[0;34m'tag'\u001b[0m\u001b[0;34m]\u001b[0m\u001b[0;34m[\u001b[0m\u001b[0mi\u001b[0m\u001b[0;34m]\u001b[0m\u001b[0;34m[\u001b[0m\u001b[0;34m:\u001b[0m\u001b[0;34m-\u001b[0m\u001b[0;36m4\u001b[0m\u001b[0;34m]\u001b[0m\u001b[0;34m\u001b[0m\u001b[0;34m\u001b[0m\u001b[0m\n\u001b[0m\u001b[1;32m      4\u001b[0m \u001b[0mdf\u001b[0m\u001b[0;34m\u001b[0m\u001b[0;34m\u001b[0m\u001b[0m\n",
            "\u001b[0;32m/usr/local/lib/python3.10/dist-packages/pandas/core/frame.py\u001b[0m in \u001b[0;36m__getitem__\u001b[0;34m(self, key)\u001b[0m\n\u001b[1;32m   3805\u001b[0m             \u001b[0;32mif\u001b[0m \u001b[0mself\u001b[0m\u001b[0;34m.\u001b[0m\u001b[0mcolumns\u001b[0m\u001b[0;34m.\u001b[0m\u001b[0mnlevels\u001b[0m \u001b[0;34m>\u001b[0m \u001b[0;36m1\u001b[0m\u001b[0;34m:\u001b[0m\u001b[0;34m\u001b[0m\u001b[0;34m\u001b[0m\u001b[0m\n\u001b[1;32m   3806\u001b[0m                 \u001b[0;32mreturn\u001b[0m \u001b[0mself\u001b[0m\u001b[0;34m.\u001b[0m\u001b[0m_getitem_multilevel\u001b[0m\u001b[0;34m(\u001b[0m\u001b[0mkey\u001b[0m\u001b[0;34m)\u001b[0m\u001b[0;34m\u001b[0m\u001b[0;34m\u001b[0m\u001b[0m\n\u001b[0;32m-> 3807\u001b[0;31m             \u001b[0mindexer\u001b[0m \u001b[0;34m=\u001b[0m \u001b[0mself\u001b[0m\u001b[0;34m.\u001b[0m\u001b[0mcolumns\u001b[0m\u001b[0;34m.\u001b[0m\u001b[0mget_loc\u001b[0m\u001b[0;34m(\u001b[0m\u001b[0mkey\u001b[0m\u001b[0;34m)\u001b[0m\u001b[0;34m\u001b[0m\u001b[0;34m\u001b[0m\u001b[0m\n\u001b[0m\u001b[1;32m   3808\u001b[0m             \u001b[0;32mif\u001b[0m \u001b[0mis_integer\u001b[0m\u001b[0;34m(\u001b[0m\u001b[0mindexer\u001b[0m\u001b[0;34m)\u001b[0m\u001b[0;34m:\u001b[0m\u001b[0;34m\u001b[0m\u001b[0;34m\u001b[0m\u001b[0m\n\u001b[1;32m   3809\u001b[0m                 \u001b[0mindexer\u001b[0m \u001b[0;34m=\u001b[0m \u001b[0;34m[\u001b[0m\u001b[0mindexer\u001b[0m\u001b[0;34m]\u001b[0m\u001b[0;34m\u001b[0m\u001b[0;34m\u001b[0m\u001b[0m\n",
            "\u001b[0;32m/usr/local/lib/python3.10/dist-packages/pandas/core/indexes/base.py\u001b[0m in \u001b[0;36mget_loc\u001b[0;34m(self, key, method, tolerance)\u001b[0m\n\u001b[1;32m   3802\u001b[0m                 \u001b[0;32mreturn\u001b[0m \u001b[0mself\u001b[0m\u001b[0;34m.\u001b[0m\u001b[0m_engine\u001b[0m\u001b[0;34m.\u001b[0m\u001b[0mget_loc\u001b[0m\u001b[0;34m(\u001b[0m\u001b[0mcasted_key\u001b[0m\u001b[0;34m)\u001b[0m\u001b[0;34m\u001b[0m\u001b[0;34m\u001b[0m\u001b[0m\n\u001b[1;32m   3803\u001b[0m             \u001b[0;32mexcept\u001b[0m \u001b[0mKeyError\u001b[0m \u001b[0;32mas\u001b[0m \u001b[0merr\u001b[0m\u001b[0;34m:\u001b[0m\u001b[0;34m\u001b[0m\u001b[0;34m\u001b[0m\u001b[0m\n\u001b[0;32m-> 3804\u001b[0;31m                 \u001b[0;32mraise\u001b[0m \u001b[0mKeyError\u001b[0m\u001b[0;34m(\u001b[0m\u001b[0mkey\u001b[0m\u001b[0;34m)\u001b[0m \u001b[0;32mfrom\u001b[0m \u001b[0merr\u001b[0m\u001b[0;34m\u001b[0m\u001b[0;34m\u001b[0m\u001b[0m\n\u001b[0m\u001b[1;32m   3805\u001b[0m             \u001b[0;32mexcept\u001b[0m \u001b[0mTypeError\u001b[0m\u001b[0;34m:\u001b[0m\u001b[0;34m\u001b[0m\u001b[0;34m\u001b[0m\u001b[0m\n\u001b[1;32m   3806\u001b[0m                 \u001b[0;31m# If we have a listlike key, _check_indexing_error will raise\u001b[0m\u001b[0;34m\u001b[0m\u001b[0;34m\u001b[0m\u001b[0m\n",
            "\u001b[0;31mKeyError\u001b[0m: 'VideoID'"
          ]
        }
      ]
    },
    {
      "cell_type": "code",
      "source": [
        "train_df.shape"
      ],
      "metadata": {
        "colab": {
          "base_uri": "https://localhost:8080/"
        },
        "id": "RfYZukct7ITh",
        "outputId": "b6a9539b-a492-42ca-8040-89088e006c9b"
      },
      "execution_count": null,
      "outputs": [
        {
          "output_type": "execute_result",
          "data": {
            "text/plain": [
              "(321, 2)"
            ]
          },
          "metadata": {},
          "execution_count": 12
        }
      ]
    },
    {
      "cell_type": "markdown",
      "source": [
        "# Adding Deception Labels"
      ],
      "metadata": {
        "id": "LCxEASHk9rBi"
      }
    },
    {
      "cell_type": "code",
      "source": [
        "train_df = pd.read_csv(\"/content/train.csv\")\n",
        "train_df['Deception']=np.zeros(train_df.shape[0])\n",
        "#test_df = pd.read_csv(\"test.csv\")\n",
        "\n",
        "print(f\"Total videos for training: {len(train_df)}\")\n",
        "#print(f\"Total videos for testing: {len(test_df)}\")\n",
        "\n",
        "for i in range(0,train_df.shape[0]):\n",
        "  \n",
        "  train_df['Deception'].loc[i]=train_df['tag'][i][-5]\n",
        "train_df"
      ],
      "metadata": {
        "colab": {
          "base_uri": "https://localhost:8080/",
          "height": 527
        },
        "id": "lRMOPQRPXrC4",
        "outputId": "c912f2c5-e597-4d04-8a56-051a3beb13ef"
      },
      "execution_count": 8,
      "outputs": [
        {
          "output_type": "stream",
          "name": "stdout",
          "text": [
            "Total videos for training: 320\n"
          ]
        },
        {
          "output_type": "stream",
          "name": "stderr",
          "text": [
            "<ipython-input-8-e0fb7754aadf>:10: SettingWithCopyWarning: \n",
            "A value is trying to be set on a copy of a slice from a DataFrame\n",
            "\n",
            "See the caveats in the documentation: https://pandas.pydata.org/pandas-docs/stable/user_guide/indexing.html#returning-a-view-versus-a-copy\n",
            "  train_df['Deception'].loc[i]=train_df['tag'][i][-5]\n"
          ]
        },
        {
          "output_type": "execute_result",
          "data": {
            "text/plain": [
              "     Unnamed: 0                                         video_name  \\\n",
              "0             0  /content/drive/MyDrive/Videos/Videos/BF003_3NT...   \n",
              "1             1  /content/drive/MyDrive/Videos/Videos/BF001_4PL...   \n",
              "2             2  /content/drive/MyDrive/Videos/Videos/BF001_1PT...   \n",
              "3             3  /content/drive/MyDrive/Videos/Videos/BF003_4PL...   \n",
              "4             4  /content/drive/MyDrive/Videos/Videos/BF002_3NT...   \n",
              "..          ...                                                ...   \n",
              "315         315  /content/drive/MyDrive/Videos/Videos/WM13_3NT.wmv   \n",
              "316         316  /content/drive/MyDrive/Videos/Videos/WM19_3NT.wmv   \n",
              "317         317  /content/drive/MyDrive/Videos/Videos/WM19_4PL.wmv   \n",
              "318         318  /content/drive/MyDrive/Videos/Videos/WM027_3NT...   \n",
              "319         319  /content/drive/MyDrive/Videos/Videos/WM027_4PL...   \n",
              "\n",
              "               tag Deception  \n",
              "0    BF003_3NT.wmv         T  \n",
              "1    BF001_4PL.wmv         L  \n",
              "2    BF001_1PT.wmv         T  \n",
              "3    BF003_4PL.wmv         L  \n",
              "4    BF002_3NT.wmv         T  \n",
              "..             ...       ...  \n",
              "315   WM13_3NT.wmv         T  \n",
              "316   WM19_3NT.wmv         T  \n",
              "317   WM19_4PL.wmv         L  \n",
              "318  WM027_3NT.wmv         T  \n",
              "319  WM027_4PL.wmv         L  \n",
              "\n",
              "[320 rows x 4 columns]"
            ],
            "text/html": [
              "\n",
              "  <div id=\"df-20c48292-6fc5-4faa-b8ca-c96df16a2da5\">\n",
              "    <div class=\"colab-df-container\">\n",
              "      <div>\n",
              "<style scoped>\n",
              "    .dataframe tbody tr th:only-of-type {\n",
              "        vertical-align: middle;\n",
              "    }\n",
              "\n",
              "    .dataframe tbody tr th {\n",
              "        vertical-align: top;\n",
              "    }\n",
              "\n",
              "    .dataframe thead th {\n",
              "        text-align: right;\n",
              "    }\n",
              "</style>\n",
              "<table border=\"1\" class=\"dataframe\">\n",
              "  <thead>\n",
              "    <tr style=\"text-align: right;\">\n",
              "      <th></th>\n",
              "      <th>Unnamed: 0</th>\n",
              "      <th>video_name</th>\n",
              "      <th>tag</th>\n",
              "      <th>Deception</th>\n",
              "    </tr>\n",
              "  </thead>\n",
              "  <tbody>\n",
              "    <tr>\n",
              "      <th>0</th>\n",
              "      <td>0</td>\n",
              "      <td>/content/drive/MyDrive/Videos/Videos/BF003_3NT...</td>\n",
              "      <td>BF003_3NT.wmv</td>\n",
              "      <td>T</td>\n",
              "    </tr>\n",
              "    <tr>\n",
              "      <th>1</th>\n",
              "      <td>1</td>\n",
              "      <td>/content/drive/MyDrive/Videos/Videos/BF001_4PL...</td>\n",
              "      <td>BF001_4PL.wmv</td>\n",
              "      <td>L</td>\n",
              "    </tr>\n",
              "    <tr>\n",
              "      <th>2</th>\n",
              "      <td>2</td>\n",
              "      <td>/content/drive/MyDrive/Videos/Videos/BF001_1PT...</td>\n",
              "      <td>BF001_1PT.wmv</td>\n",
              "      <td>T</td>\n",
              "    </tr>\n",
              "    <tr>\n",
              "      <th>3</th>\n",
              "      <td>3</td>\n",
              "      <td>/content/drive/MyDrive/Videos/Videos/BF003_4PL...</td>\n",
              "      <td>BF003_4PL.wmv</td>\n",
              "      <td>L</td>\n",
              "    </tr>\n",
              "    <tr>\n",
              "      <th>4</th>\n",
              "      <td>4</td>\n",
              "      <td>/content/drive/MyDrive/Videos/Videos/BF002_3NT...</td>\n",
              "      <td>BF002_3NT.wmv</td>\n",
              "      <td>T</td>\n",
              "    </tr>\n",
              "    <tr>\n",
              "      <th>...</th>\n",
              "      <td>...</td>\n",
              "      <td>...</td>\n",
              "      <td>...</td>\n",
              "      <td>...</td>\n",
              "    </tr>\n",
              "    <tr>\n",
              "      <th>315</th>\n",
              "      <td>315</td>\n",
              "      <td>/content/drive/MyDrive/Videos/Videos/WM13_3NT.wmv</td>\n",
              "      <td>WM13_3NT.wmv</td>\n",
              "      <td>T</td>\n",
              "    </tr>\n",
              "    <tr>\n",
              "      <th>316</th>\n",
              "      <td>316</td>\n",
              "      <td>/content/drive/MyDrive/Videos/Videos/WM19_3NT.wmv</td>\n",
              "      <td>WM19_3NT.wmv</td>\n",
              "      <td>T</td>\n",
              "    </tr>\n",
              "    <tr>\n",
              "      <th>317</th>\n",
              "      <td>317</td>\n",
              "      <td>/content/drive/MyDrive/Videos/Videos/WM19_4PL.wmv</td>\n",
              "      <td>WM19_4PL.wmv</td>\n",
              "      <td>L</td>\n",
              "    </tr>\n",
              "    <tr>\n",
              "      <th>318</th>\n",
              "      <td>318</td>\n",
              "      <td>/content/drive/MyDrive/Videos/Videos/WM027_3NT...</td>\n",
              "      <td>WM027_3NT.wmv</td>\n",
              "      <td>T</td>\n",
              "    </tr>\n",
              "    <tr>\n",
              "      <th>319</th>\n",
              "      <td>319</td>\n",
              "      <td>/content/drive/MyDrive/Videos/Videos/WM027_4PL...</td>\n",
              "      <td>WM027_4PL.wmv</td>\n",
              "      <td>L</td>\n",
              "    </tr>\n",
              "  </tbody>\n",
              "</table>\n",
              "<p>320 rows × 4 columns</p>\n",
              "</div>\n",
              "      <button class=\"colab-df-convert\" onclick=\"convertToInteractive('df-20c48292-6fc5-4faa-b8ca-c96df16a2da5')\"\n",
              "              title=\"Convert this dataframe to an interactive table.\"\n",
              "              style=\"display:none;\">\n",
              "        \n",
              "  <svg xmlns=\"http://www.w3.org/2000/svg\" height=\"24px\"viewBox=\"0 0 24 24\"\n",
              "       width=\"24px\">\n",
              "    <path d=\"M0 0h24v24H0V0z\" fill=\"none\"/>\n",
              "    <path d=\"M18.56 5.44l.94 2.06.94-2.06 2.06-.94-2.06-.94-.94-2.06-.94 2.06-2.06.94zm-11 1L8.5 8.5l.94-2.06 2.06-.94-2.06-.94L8.5 2.5l-.94 2.06-2.06.94zm10 10l.94 2.06.94-2.06 2.06-.94-2.06-.94-.94-2.06-.94 2.06-2.06.94z\"/><path d=\"M17.41 7.96l-1.37-1.37c-.4-.4-.92-.59-1.43-.59-.52 0-1.04.2-1.43.59L10.3 9.45l-7.72 7.72c-.78.78-.78 2.05 0 2.83L4 21.41c.39.39.9.59 1.41.59.51 0 1.02-.2 1.41-.59l7.78-7.78 2.81-2.81c.8-.78.8-2.07 0-2.86zM5.41 20L4 18.59l7.72-7.72 1.47 1.35L5.41 20z\"/>\n",
              "  </svg>\n",
              "      </button>\n",
              "      \n",
              "  <style>\n",
              "    .colab-df-container {\n",
              "      display:flex;\n",
              "      flex-wrap:wrap;\n",
              "      gap: 12px;\n",
              "    }\n",
              "\n",
              "    .colab-df-convert {\n",
              "      background-color: #E8F0FE;\n",
              "      border: none;\n",
              "      border-radius: 50%;\n",
              "      cursor: pointer;\n",
              "      display: none;\n",
              "      fill: #1967D2;\n",
              "      height: 32px;\n",
              "      padding: 0 0 0 0;\n",
              "      width: 32px;\n",
              "    }\n",
              "\n",
              "    .colab-df-convert:hover {\n",
              "      background-color: #E2EBFA;\n",
              "      box-shadow: 0px 1px 2px rgba(60, 64, 67, 0.3), 0px 1px 3px 1px rgba(60, 64, 67, 0.15);\n",
              "      fill: #174EA6;\n",
              "    }\n",
              "\n",
              "    [theme=dark] .colab-df-convert {\n",
              "      background-color: #3B4455;\n",
              "      fill: #D2E3FC;\n",
              "    }\n",
              "\n",
              "    [theme=dark] .colab-df-convert:hover {\n",
              "      background-color: #434B5C;\n",
              "      box-shadow: 0px 1px 3px 1px rgba(0, 0, 0, 0.15);\n",
              "      filter: drop-shadow(0px 1px 2px rgba(0, 0, 0, 0.3));\n",
              "      fill: #FFFFFF;\n",
              "    }\n",
              "  </style>\n",
              "\n",
              "      <script>\n",
              "        const buttonEl =\n",
              "          document.querySelector('#df-20c48292-6fc5-4faa-b8ca-c96df16a2da5 button.colab-df-convert');\n",
              "        buttonEl.style.display =\n",
              "          google.colab.kernel.accessAllowed ? 'block' : 'none';\n",
              "\n",
              "        async function convertToInteractive(key) {\n",
              "          const element = document.querySelector('#df-20c48292-6fc5-4faa-b8ca-c96df16a2da5');\n",
              "          const dataTable =\n",
              "            await google.colab.kernel.invokeFunction('convertToInteractive',\n",
              "                                                     [key], {});\n",
              "          if (!dataTable) return;\n",
              "\n",
              "          const docLinkHtml = 'Like what you see? Visit the ' +\n",
              "            '<a target=\"_blank\" href=https://colab.research.google.com/notebooks/data_table.ipynb>data table notebook</a>'\n",
              "            + ' to learn more about interactive tables.';\n",
              "          element.innerHTML = '';\n",
              "          dataTable['output_type'] = 'display_data';\n",
              "          await google.colab.output.renderOutput(dataTable, element);\n",
              "          const docLink = document.createElement('div');\n",
              "          docLink.innerHTML = docLinkHtml;\n",
              "          element.appendChild(docLink);\n",
              "        }\n",
              "      </script>\n",
              "    </div>\n",
              "  </div>\n",
              "  "
            ]
          },
          "metadata": {},
          "execution_count": 8
        }
      ]
    },
    {
      "cell_type": "markdown",
      "source": [
        "# Video features Extract"
      ],
      "metadata": {
        "id": "yf6XxRXQC_uH"
      }
    },
    {
      "cell_type": "code",
      "source": [
        "# The following two methods are taken from this tutorial:\n",
        "# https://www.tensorflow.org/hub/tutorials/action_recognition_with_tf_hub\n",
        "IMG_SIZE = 224\n",
        "\n",
        "\n",
        "def crop_center_square(frame):\n",
        "    y, x = frame.shape[0:2]\n",
        "    min_dim = min(y, x)\n",
        "    start_x = (x // 2) - (min_dim // 2)\n",
        "    start_y = (y // 2) - (min_dim // 2)\n",
        "    return frame[start_y : start_y + min_dim, start_x : start_x + min_dim]\n",
        "\n",
        "\n",
        "def load_video(path, max_frames=0, resize=(IMG_SIZE, IMG_SIZE)):\n",
        "    \n",
        "    cap = cv2.VideoCapture(path)\n",
        "    print(path)\n",
        "    frames = []\n",
        "    try:\n",
        "        while True:\n",
        "            ret, frame = cap.read()\n",
        "            print(ret,frame)\n",
        "            if not ret:\n",
        "                break\n",
        "            frame = crop_center_square(frame)\n",
        "            frame = cv2.resize(frame, resize)\n",
        "            frame = frame[:, :, [2, 1, 0]]\n",
        "            frames.append(frame)\n",
        "\n",
        "            if len(frames) == max_frames:\n",
        "                break\n",
        "    finally:\n",
        "        cap.release()\n",
        "    return np.array(frames)"
      ],
      "metadata": {
        "id": "ebe7Gn02Xu65"
      },
      "execution_count": 9,
      "outputs": []
    },
    {
      "cell_type": "code",
      "source": [
        "def build_feature_extractor():\n",
        "    feature_extractor = keras.applications.InceptionV3(\n",
        "        weights=\"imagenet\",\n",
        "        include_top=False,\n",
        "        pooling=\"avg\",\n",
        "        input_shape=(IMG_SIZE, IMG_SIZE, 3),\n",
        "    )\n",
        "    preprocess_input = keras.applications.inception_v3.preprocess_input\n",
        "\n",
        "    inputs = keras.Input((IMG_SIZE, IMG_SIZE, 3))\n",
        "    preprocessed = preprocess_input(inputs)\n",
        "\n",
        "    outputs = feature_extractor(preprocessed)\n",
        "    return keras.Model(inputs, outputs, name=\"feature_extractor\")\n",
        "\n",
        "\n",
        "feature_extractor = build_feature_extractor()"
      ],
      "metadata": {
        "id": "Bj1HSXmTXwOI",
        "colab": {
          "base_uri": "https://localhost:8080/"
        },
        "outputId": "967f1ac0-1df5-4817-8baf-a60db5dd4488"
      },
      "execution_count": 10,
      "outputs": [
        {
          "output_type": "stream",
          "name": "stdout",
          "text": [
            "Downloading data from https://storage.googleapis.com/tensorflow/keras-applications/inception_v3/inception_v3_weights_tf_dim_ordering_tf_kernels_notop.h5\n",
            "87910968/87910968 [==============================] - 1s 0us/step\n"
          ]
        }
      ]
    },
    {
      "cell_type": "code",
      "source": [
        "label_processor = keras.layers.StringLookup(num_oov_indices=0, vocabulary=np.unique(train_df[\"Deception\"]))\n",
        "print(label_processor.get_vocabulary())\n",
        "\n",
        "labels = train_df[\"Deception\"].values\n",
        "labels = label_processor(labels[..., None]).numpy()\n",
        "(labels)"
      ],
      "metadata": {
        "colab": {
          "base_uri": "https://localhost:8080/"
        },
        "id": "1W5vdQeaX3WU",
        "outputId": "532354bd-a528-4c89-a548-1df8702902b9"
      },
      "execution_count": 45,
      "outputs": [
        {
          "output_type": "stream",
          "name": "stdout",
          "text": [
            "['L', 'T']\n"
          ]
        },
        {
          "output_type": "execute_result",
          "data": {
            "text/plain": [
              "array([[1],\n",
              "       [0],\n",
              "       [1],\n",
              "       [0],\n",
              "       [1],\n",
              "       [1],\n",
              "       [1],\n",
              "       [0],\n",
              "       [1],\n",
              "       [1],\n",
              "       [0],\n",
              "       [0],\n",
              "       [0],\n",
              "       [0],\n",
              "       [1],\n",
              "       [1],\n",
              "       [1],\n",
              "       [1],\n",
              "       [0],\n",
              "       [1],\n",
              "       [1],\n",
              "       [0],\n",
              "       [0],\n",
              "       [0],\n",
              "       [0],\n",
              "       [0],\n",
              "       [0],\n",
              "       [0],\n",
              "       [1],\n",
              "       [1],\n",
              "       [1],\n",
              "       [0],\n",
              "       [0],\n",
              "       [1],\n",
              "       [1],\n",
              "       [0],\n",
              "       [1],\n",
              "       [0],\n",
              "       [1],\n",
              "       [0],\n",
              "       [1],\n",
              "       [0],\n",
              "       [1],\n",
              "       [0],\n",
              "       [1],\n",
              "       [0],\n",
              "       [1],\n",
              "       [0],\n",
              "       [1],\n",
              "       [0],\n",
              "       [0],\n",
              "       [0],\n",
              "       [1],\n",
              "       [1],\n",
              "       [1],\n",
              "       [1],\n",
              "       [0],\n",
              "       [0],\n",
              "       [1],\n",
              "       [0],\n",
              "       [1],\n",
              "       [0],\n",
              "       [1],\n",
              "       [1],\n",
              "       [0],\n",
              "       [1],\n",
              "       [0],\n",
              "       [0],\n",
              "       [0],\n",
              "       [1],\n",
              "       [0],\n",
              "       [0],\n",
              "       [1],\n",
              "       [1],\n",
              "       [1],\n",
              "       [0],\n",
              "       [1],\n",
              "       [0],\n",
              "       [1],\n",
              "       [0],\n",
              "       [0],\n",
              "       [0],\n",
              "       [0],\n",
              "       [1],\n",
              "       [1],\n",
              "       [1],\n",
              "       [1],\n",
              "       [0],\n",
              "       [1],\n",
              "       [1],\n",
              "       [0],\n",
              "       [0],\n",
              "       [1],\n",
              "       [0],\n",
              "       [1],\n",
              "       [0],\n",
              "       [0],\n",
              "       [1],\n",
              "       [1],\n",
              "       [0],\n",
              "       [0],\n",
              "       [0],\n",
              "       [1],\n",
              "       [1],\n",
              "       [1],\n",
              "       [0],\n",
              "       [0],\n",
              "       [1],\n",
              "       [1],\n",
              "       [0],\n",
              "       [0],\n",
              "       [1],\n",
              "       [1],\n",
              "       [1],\n",
              "       [0],\n",
              "       [1],\n",
              "       [1],\n",
              "       [0],\n",
              "       [0],\n",
              "       [1],\n",
              "       [1],\n",
              "       [0],\n",
              "       [0],\n",
              "       [0],\n",
              "       [1],\n",
              "       [0],\n",
              "       [1],\n",
              "       [0],\n",
              "       [1],\n",
              "       [1],\n",
              "       [0],\n",
              "       [0],\n",
              "       [0],\n",
              "       [0],\n",
              "       [1],\n",
              "       [1],\n",
              "       [1],\n",
              "       [1],\n",
              "       [1],\n",
              "       [0],\n",
              "       [1],\n",
              "       [0],\n",
              "       [0],\n",
              "       [0],\n",
              "       [0],\n",
              "       [1],\n",
              "       [0],\n",
              "       [1],\n",
              "       [1],\n",
              "       [1],\n",
              "       [0],\n",
              "       [0],\n",
              "       [0],\n",
              "       [0],\n",
              "       [0],\n",
              "       [1],\n",
              "       [1],\n",
              "       [0],\n",
              "       [1],\n",
              "       [1],\n",
              "       [0],\n",
              "       [1],\n",
              "       [1],\n",
              "       [1],\n",
              "       [0],\n",
              "       [0],\n",
              "       [1],\n",
              "       [1],\n",
              "       [0],\n",
              "       [1],\n",
              "       [1],\n",
              "       [0],\n",
              "       [0],\n",
              "       [1],\n",
              "       [1],\n",
              "       [1],\n",
              "       [0],\n",
              "       [0],\n",
              "       [1],\n",
              "       [0],\n",
              "       [0],\n",
              "       [1],\n",
              "       [1],\n",
              "       [0],\n",
              "       [0],\n",
              "       [1],\n",
              "       [0],\n",
              "       [0],\n",
              "       [0],\n",
              "       [0],\n",
              "       [1],\n",
              "       [1],\n",
              "       [1],\n",
              "       [0],\n",
              "       [0],\n",
              "       [1],\n",
              "       [1],\n",
              "       [1],\n",
              "       [0],\n",
              "       [1],\n",
              "       [0],\n",
              "       [0],\n",
              "       [1],\n",
              "       [0],\n",
              "       [0],\n",
              "       [1],\n",
              "       [1],\n",
              "       [0],\n",
              "       [1],\n",
              "       [1],\n",
              "       [1],\n",
              "       [1],\n",
              "       [0],\n",
              "       [0],\n",
              "       [0],\n",
              "       [0],\n",
              "       [1],\n",
              "       [0],\n",
              "       [0],\n",
              "       [1],\n",
              "       [0],\n",
              "       [1],\n",
              "       [1],\n",
              "       [1],\n",
              "       [0],\n",
              "       [0],\n",
              "       [0],\n",
              "       [0],\n",
              "       [1],\n",
              "       [1],\n",
              "       [0],\n",
              "       [0],\n",
              "       [1],\n",
              "       [1],\n",
              "       [0],\n",
              "       [1],\n",
              "       [0],\n",
              "       [0],\n",
              "       [1],\n",
              "       [1],\n",
              "       [1],\n",
              "       [0],\n",
              "       [0],\n",
              "       [0],\n",
              "       [1],\n",
              "       [1],\n",
              "       [0],\n",
              "       [0],\n",
              "       [1],\n",
              "       [1],\n",
              "       [0],\n",
              "       [0],\n",
              "       [0],\n",
              "       [1],\n",
              "       [1],\n",
              "       [1],\n",
              "       [1],\n",
              "       [1],\n",
              "       [0],\n",
              "       [0],\n",
              "       [1],\n",
              "       [1],\n",
              "       [0],\n",
              "       [1],\n",
              "       [0],\n",
              "       [0],\n",
              "       [0],\n",
              "       [0],\n",
              "       [1],\n",
              "       [1],\n",
              "       [1],\n",
              "       [0],\n",
              "       [1],\n",
              "       [0],\n",
              "       [0],\n",
              "       [1],\n",
              "       [1],\n",
              "       [0],\n",
              "       [1],\n",
              "       [0],\n",
              "       [1],\n",
              "       [1],\n",
              "       [0],\n",
              "       [0],\n",
              "       [0],\n",
              "       [1],\n",
              "       [1],\n",
              "       [0],\n",
              "       [0],\n",
              "       [0],\n",
              "       [1],\n",
              "       [0],\n",
              "       [0],\n",
              "       [1],\n",
              "       [1],\n",
              "       [0],\n",
              "       [1],\n",
              "       [1],\n",
              "       [0],\n",
              "       [0],\n",
              "       [0],\n",
              "       [1],\n",
              "       [1],\n",
              "       [1],\n",
              "       [1],\n",
              "       [1],\n",
              "       [0],\n",
              "       [0],\n",
              "       [0],\n",
              "       [1],\n",
              "       [1],\n",
              "       [0],\n",
              "       [1],\n",
              "       [0],\n",
              "       [0],\n",
              "       [1],\n",
              "       [1],\n",
              "       [0],\n",
              "       [1],\n",
              "       [0]])"
            ]
          },
          "metadata": {},
          "execution_count": 45
        }
      ]
    },
    {
      "cell_type": "code",
      "source": [
        "\n",
        "IMG_SIZE = 224\n",
        "BATCH_SIZE = 64\n",
        "EPOCHS = 100\n",
        "\n",
        "MAX_SEQ_LENGTH = 20\n",
        "NUM_FEATURES = 2048\n"
      ],
      "metadata": {
        "id": "N-P4y0GPcXPX"
      },
      "execution_count": 12,
      "outputs": []
    },
    {
      "cell_type": "markdown",
      "source": [
        "# Extracted Video features in pkl file"
      ],
      "metadata": {
        "id": "ygKSQM21DPuZ"
      }
    },
    {
      "cell_type": "code",
      "source": [
        "import pickle\n",
        "\n",
        "\n",
        "with open('/content/train_data.pkl', 'rb') as f:\n",
        "    my_tuple = pickle.load(f)\n",
        "my_tuple"
      ],
      "metadata": {
        "id": "NvVbQOR_OJcH",
        "colab": {
          "base_uri": "https://localhost:8080/"
        },
        "outputId": "1ce8877a-10d8-4f28-d6a3-5c8476f496c8"
      },
      "execution_count": 17,
      "outputs": [
        {
          "output_type": "execute_result",
          "data": {
            "text/plain": [
              "(array([[[0.6854098 , 0.1606766 , 0.27480108, ..., 0.4572591 ,\n",
              "          0.44488156, 0.27652252],\n",
              "         [0.69819283, 0.13448094, 0.33516598, ..., 0.43082437,\n",
              "          0.2956775 , 0.24422583],\n",
              "         [0.7556526 , 0.07690734, 0.35465392, ..., 0.41436204,\n",
              "          0.26841894, 0.17457841],\n",
              "         ...,\n",
              "         [0.60725176, 0.15331706, 0.32040665, ..., 0.4766617 ,\n",
              "          0.56096995, 0.5125184 ],\n",
              "         [0.60679823, 0.09638493, 0.37196663, ..., 0.41001603,\n",
              "          0.6711082 , 0.4947485 ],\n",
              "         [0.6205095 , 0.11247209, 0.34596303, ..., 0.4609939 ,\n",
              "          0.6785412 , 0.45554408]],\n",
              " \n",
              "        [[0.4198775 , 0.16492754, 0.24458131, ..., 0.40715984,\n",
              "          0.73146665, 0.3500821 ],\n",
              "         [0.50558954, 0.2957443 , 0.20407405, ..., 0.3511975 ,\n",
              "          0.8751574 , 0.514419  ],\n",
              "         [0.44170022, 0.2356498 , 0.18974482, ..., 0.22450596,\n",
              "          1.2157254 , 0.6550993 ],\n",
              "         ...,\n",
              "         [0.6527922 , 0.27950847, 0.32063046, ..., 0.5522824 ,\n",
              "          1.1558243 , 0.5048424 ],\n",
              "         [0.66487366, 0.2327395 , 0.4215672 , ..., 0.6840183 ,\n",
              "          1.1226604 , 0.54211146],\n",
              "         [0.66556066, 0.19697441, 0.33170295, ..., 0.74071413,\n",
              "          1.3761514 , 0.5865531 ]],\n",
              " \n",
              "        [[0.11189242, 0.20224775, 0.39463422, ..., 0.02124914,\n",
              "          0.20149007, 0.16048788],\n",
              "         [0.11308798, 0.35785976, 0.33658868, ..., 0.12680553,\n",
              "          0.38383374, 0.33003196],\n",
              "         [0.28130662, 0.46489784, 0.2521819 , ..., 0.2266742 ,\n",
              "          0.47598946, 0.46269825],\n",
              "         ...,\n",
              "         [0.29892728, 0.4807552 , 0.45281643, ..., 0.25588864,\n",
              "          0.88479733, 0.4843665 ],\n",
              "         [0.31301332, 0.58460283, 0.3926721 , ..., 0.29111674,\n",
              "          0.9449642 , 0.3489308 ],\n",
              "         [0.24706976, 0.53594434, 0.25680995, ..., 0.24046898,\n",
              "          0.84050584, 0.3186742 ]],\n",
              " \n",
              "        ...,\n",
              " \n",
              "        [[0.35843194, 0.27898616, 0.06744298, ..., 0.21474248,\n",
              "          0.07379529, 0.3833797 ],\n",
              "         [0.37663856, 0.3297581 , 0.03511337, ..., 0.19789535,\n",
              "          0.00973087, 0.4399684 ],\n",
              "         [0.49709922, 0.2793993 , 0.05137011, ..., 0.06395402,\n",
              "          0.        , 0.5931489 ],\n",
              "         ...,\n",
              "         [0.31142366, 0.11538351, 0.07035031, ..., 0.35149306,\n",
              "          0.        , 0.5033307 ],\n",
              "         [0.29996577, 0.08295498, 0.04674634, ..., 0.23219982,\n",
              "          0.01082092, 0.660222  ],\n",
              "         [0.32134002, 0.07420942, 0.04530643, ..., 0.28707957,\n",
              "          0.03197582, 0.88022506]],\n",
              " \n",
              "        [[0.16325769, 0.4652672 , 0.06882631, ..., 1.3278024 ,\n",
              "          0.52023065, 0.6737183 ],\n",
              "         [0.1757402 , 0.49815875, 0.01405516, ..., 1.1399007 ,\n",
              "          0.38727364, 0.6066785 ],\n",
              "         [0.24280605, 0.6046961 , 0.04087805, ..., 1.2210808 ,\n",
              "          0.7093648 , 0.69670033],\n",
              "         ...,\n",
              "         [0.17366882, 0.520941  , 0.0541456 , ..., 1.3306093 ,\n",
              "          0.5429466 , 0.45198342],\n",
              "         [0.17361976, 0.5788101 , 0.08763331, ..., 1.3596904 ,\n",
              "          0.56711644, 0.42038995],\n",
              "         [0.20856845, 0.5706779 , 0.05022613, ..., 1.3155386 ,\n",
              "          0.77944684, 0.45056358]],\n",
              " \n",
              "        [[0.18855335, 0.282183  , 0.01817885, ..., 0.9817517 ,\n",
              "          0.05538502, 0.7815442 ],\n",
              "         [0.2232174 , 0.26838225, 0.00938869, ..., 0.8398242 ,\n",
              "          0.16879673, 0.48270243],\n",
              "         [0.24236013, 0.27847102, 0.00687461, ..., 0.99902964,\n",
              "          0.3461264 , 0.6548365 ],\n",
              "         ...,\n",
              "         [0.17706326, 0.3418413 , 0.02097561, ..., 0.90314275,\n",
              "          0.46752408, 0.3821043 ],\n",
              "         [0.16371511, 0.35500804, 0.01527734, ..., 0.82725024,\n",
              "          0.51660407, 0.36704227],\n",
              "         [0.19753744, 0.36765358, 0.        , ..., 0.7565185 ,\n",
              "          0.26356182, 0.38104162]]], dtype=float32),\n",
              " array([[ True,  True,  True, ...,  True,  True,  True],\n",
              "        [ True,  True,  True, ...,  True,  True,  True],\n",
              "        [ True,  True,  True, ...,  True,  True,  True],\n",
              "        ...,\n",
              "        [ True,  True,  True, ...,  True,  True,  True],\n",
              "        [ True,  True,  True, ...,  True,  True,  True],\n",
              "        [ True,  True,  True, ...,  True,  True,  True]]))"
            ]
          },
          "metadata": {},
          "execution_count": 17
        }
      ]
    },
    {
      "cell_type": "markdown",
      "source": [
        "#preprocessing before sending to model"
      ],
      "metadata": {
        "id": "Evgdg3m0Db0l"
      }
    },
    {
      "cell_type": "code",
      "source": [
        "index_to_remove = 149\n",
        "\n",
        "# remove the row at index 149 along the first axis (rows)\n",
        "new_array2 = np.delete(my_tuple[1], index_to_remove, axis=0)\n",
        "\n",
        "# print the new array shape\n",
        "print(new_array2.shape)"
      ],
      "metadata": {
        "colab": {
          "base_uri": "https://localhost:8080/"
        },
        "id": "Zbd7KuJQWxuI",
        "outputId": "5d5bcdc1-6820-40dc-8be8-7b30e2a0875b"
      },
      "execution_count": 18,
      "outputs": [
        {
          "output_type": "stream",
          "name": "stdout",
          "text": [
            "(320, 20)\n"
          ]
        }
      ]
    },
    {
      "cell_type": "code",
      "source": [
        "import numpy as np\n",
        "\n",
        "# create a sample array\n",
        " # create an array of random values with shape (321, 20, 2048)\n",
        "index_to_remove = 149\n",
        "\n",
        "# remove the row at index 149 along the first axis (rows)\n",
        "new_array1 = np.delete(my_tuple[0], index_to_remove, axis=0)\n",
        "\n",
        "# print the new array shape\n",
        "print(new_array1.shape)"
      ],
      "metadata": {
        "colab": {
          "base_uri": "https://localhost:8080/"
        },
        "id": "FWhY7EAlUCTi",
        "outputId": "c0607b79-f557-4399-bd3b-81ca53a76408"
      },
      "execution_count": 19,
      "outputs": [
        {
          "output_type": "stream",
          "name": "stdout",
          "text": [
            "(320, 20, 2048)\n"
          ]
        }
      ]
    },
    {
      "cell_type": "markdown",
      "source": [
        "#model Run (RNN)"
      ],
      "metadata": {
        "id": "u1Uqd2O1DhK8"
      }
    },
    {
      "cell_type": "code",
      "source": [
        "\n",
        "# Utility for our sequence model.\n",
        "def get_sequence_model():\n",
        "    class_vocab = label_processor.get_vocabulary()\n",
        "\n",
        "    frame_features_input = keras.Input((MAX_SEQ_LENGTH, NUM_FEATURES))\n",
        "    print((MAX_SEQ_LENGTH, NUM_FEATURES))\n",
        "    mask_input = keras.Input((MAX_SEQ_LENGTH,), dtype=\"bool\")\n",
        "\n",
        "    # Refer to the following tutorial to understand the significance of using `mask`:\n",
        "    # https://keras.io/api/layers/recurrent_layers/gru/\n",
        "    x = keras.layers.GRU(16, return_sequences=True)(frame_features_input, mask=mask_input)\n",
        "    x = keras.layers.GRU(8)(x)\n",
        "    x = keras.layers.Dropout(0.4)(x)\n",
        "    x = keras.layers.Dense(8, activation=\"relu\")(x)\n",
        "    output = keras.layers.Dense(len(class_vocab), activation=\"softmax\")(x)\n",
        "\n",
        "    rnn_model = keras.Model([frame_features_input, mask_input], output)\n",
        "\n",
        "    rnn_model.compile(\n",
        "        loss=\"sparse_categorical_crossentropy\", optimizer=\"adam\", metrics=[\"accuracy\"]\n",
        "    )\n",
        "    return rnn_model\n",
        "\n",
        "EPOCHS = 5\n",
        "# Utility for running experiments.\n",
        "def run_experiment():\n",
        "    filepath = \"./tmp/video_classifier\"\n",
        "    checkpoint = keras.callbacks.ModelCheckpoint(\n",
        "        filepath, save_weights_only=True, save_best_only=True, verbose=1\n",
        "    )\n",
        "\n",
        "    seq_model = get_sequence_model()\n",
        "    \n",
        "    history = seq_model.fit([new_array1,new_array2],\n",
        "        labels,\n",
        "        epochs=EPOCHS,\n",
        "        callbacks=[checkpoint],\n",
        "    )\n",
        "\n",
        "    #seq_model.load_weights(filepath)\n",
        "    \n",
        "\n",
        "    return history, seq_model\n",
        "\n",
        "\n",
        "_, sequence_model = run_experiment()"
      ],
      "metadata": {
        "colab": {
          "base_uri": "https://localhost:8080/"
        },
        "id": "2qr4ZGzWcp41",
        "outputId": "0e73b240-fe93-4a55-9ea6-6bf661e614fa"
      },
      "execution_count": 46,
      "outputs": [
        {
          "output_type": "stream",
          "name": "stdout",
          "text": [
            "(20, 2048)\n",
            "Epoch 1/5\n",
            " 9/10 [==========================>...] - ETA: 0s - loss: 0.7032 - accuracy: 0.4757"
          ]
        },
        {
          "output_type": "stream",
          "name": "stderr",
          "text": [
            "WARNING:tensorflow:Can save best model only with val_loss available, skipping.\n"
          ]
        },
        {
          "output_type": "stream",
          "name": "stdout",
          "text": [
            "\b\b\b\b\b\b\b\b\b\b\b\b\b\b\b\b\b\b\b\b\b\b\b\b\b\b\b\b\b\b\b\b\b\b\b\b\b\b\b\b\b\b\b\b\b\b\b\b\b\b\b\b\b\b\b\b\b\b\b\b\b\b\b\b\b\b\b\b\b\b\b\b\b\b\b\b\b\b\b\b\b\b\r10/10 [==============================] - 7s 39ms/step - loss: 0.7011 - accuracy: 0.4906\n",
            "Epoch 2/5\n",
            " 9/10 [==========================>...] - ETA: 0s - loss: 0.6927 - accuracy: 0.5069"
          ]
        },
        {
          "output_type": "stream",
          "name": "stderr",
          "text": [
            "WARNING:tensorflow:Can save best model only with val_loss available, skipping.\n"
          ]
        },
        {
          "output_type": "stream",
          "name": "stdout",
          "text": [
            "\b\b\b\b\b\b\b\b\b\b\b\b\b\b\b\b\b\b\b\b\b\b\b\b\b\b\b\b\b\b\b\b\b\b\b\b\b\b\b\b\b\b\b\b\b\b\b\b\b\b\b\b\b\b\b\b\b\b\b\b\b\b\b\b\b\b\b\b\b\b\b\b\b\b\b\b\b\b\b\b\b\b\r10/10 [==============================] - 0s 37ms/step - loss: 0.6931 - accuracy: 0.5125\n",
            "Epoch 3/5\n",
            " 9/10 [==========================>...] - ETA: 0s - loss: 0.6929 - accuracy: 0.5278"
          ]
        },
        {
          "output_type": "stream",
          "name": "stderr",
          "text": [
            "WARNING:tensorflow:Can save best model only with val_loss available, skipping.\n"
          ]
        },
        {
          "output_type": "stream",
          "name": "stdout",
          "text": [
            "\b\b\b\b\b\b\b\b\b\b\b\b\b\b\b\b\b\b\b\b\b\b\b\b\b\b\b\b\b\b\b\b\b\b\b\b\b\b\b\b\b\b\b\b\b\b\b\b\b\b\b\b\b\b\b\b\b\b\b\b\b\b\b\b\b\b\b\b\b\b\b\b\b\b\b\b\b\b\b\b\b\b\r10/10 [==============================] - 0s 39ms/step - loss: 0.6932 - accuracy: 0.5250\n",
            "Epoch 4/5\n",
            " 9/10 [==========================>...] - ETA: 0s - loss: 0.6969 - accuracy: 0.4479"
          ]
        },
        {
          "output_type": "stream",
          "name": "stderr",
          "text": [
            "WARNING:tensorflow:Can save best model only with val_loss available, skipping.\n"
          ]
        },
        {
          "output_type": "stream",
          "name": "stdout",
          "text": [
            "\b\b\b\b\b\b\b\b\b\b\b\b\b\b\b\b\b\b\b\b\b\b\b\b\b\b\b\b\b\b\b\b\b\b\b\b\b\b\b\b\b\b\b\b\b\b\b\b\b\b\b\b\b\b\b\b\b\b\b\b\b\b\b\b\b\b\b\b\b\b\b\b\b\b\b\b\b\b\b\b\b\b\r10/10 [==============================] - 0s 36ms/step - loss: 0.6967 - accuracy: 0.4531\n",
            "Epoch 5/5\n",
            " 9/10 [==========================>...] - ETA: 0s - loss: 0.6948 - accuracy: 0.5069"
          ]
        },
        {
          "output_type": "stream",
          "name": "stderr",
          "text": [
            "WARNING:tensorflow:Can save best model only with val_loss available, skipping.\n"
          ]
        },
        {
          "output_type": "stream",
          "name": "stdout",
          "text": [
            "\b\b\b\b\b\b\b\b\b\b\b\b\b\b\b\b\b\b\b\b\b\b\b\b\b\b\b\b\b\b\b\b\b\b\b\b\b\b\b\b\b\b\b\b\b\b\b\b\b\b\b\b\b\b\b\b\b\b\b\b\b\b\b\b\b\b\b\b\b\b\b\b\b\b\b\b\b\b\b\b\b\b\r10/10 [==============================] - 0s 37ms/step - loss: 0.6949 - accuracy: 0.5156\n"
          ]
        }
      ]
    },
    {
      "cell_type": "code",
      "source": [
        "sequence_model.summary()"
      ],
      "metadata": {
        "colab": {
          "base_uri": "https://localhost:8080/"
        },
        "id": "jmDXUzwynR1f",
        "outputId": "d41e6635-880b-44c3-d598-4e42f3e778a5"
      },
      "execution_count": 21,
      "outputs": [
        {
          "output_type": "stream",
          "name": "stdout",
          "text": [
            "Model: \"model\"\n",
            "__________________________________________________________________________________________________\n",
            " Layer (type)                   Output Shape         Param #     Connected to                     \n",
            "==================================================================================================\n",
            " input_3 (InputLayer)           [(None, 20, 2048)]   0           []                               \n",
            "                                                                                                  \n",
            " input_4 (InputLayer)           [(None, 20)]         0           []                               \n",
            "                                                                                                  \n",
            " gru (GRU)                      (None, 20, 16)       99168       ['input_3[0][0]',                \n",
            "                                                                  'input_4[0][0]']                \n",
            "                                                                                                  \n",
            " gru_1 (GRU)                    (None, 8)            624         ['gru[0][0]']                    \n",
            "                                                                                                  \n",
            " dropout (Dropout)              (None, 8)            0           ['gru_1[0][0]']                  \n",
            "                                                                                                  \n",
            " dense (Dense)                  (None, 8)            72          ['dropout[0][0]']                \n",
            "                                                                                                  \n",
            " dense_1 (Dense)                (None, 2)            18          ['dense[0][0]']                  \n",
            "                                                                                                  \n",
            "==================================================================================================\n",
            "Total params: 99,882\n",
            "Trainable params: 99,882\n",
            "Non-trainable params: 0\n",
            "__________________________________________________________________________________________________\n"
          ]
        }
      ]
    },
    {
      "cell_type": "markdown",
      "source": [
        "#CNN MODEL Preprocessing"
      ],
      "metadata": {
        "id": "Ny2z3WikDnGC"
      }
    },
    {
      "cell_type": "code",
      "source": [
        "y=train_df[\"Deception\"].values\n",
        "labels=np.array(pd.get_dummies(y))\n",
        "labels"
      ],
      "metadata": {
        "colab": {
          "base_uri": "https://localhost:8080/"
        },
        "id": "2s1SeP4p0kA3",
        "outputId": "af4dc940-5a67-44d3-a3fe-b4b8b50de001"
      },
      "execution_count": 49,
      "outputs": [
        {
          "output_type": "execute_result",
          "data": {
            "text/plain": [
              "array([[0, 1],\n",
              "       [1, 0],\n",
              "       [0, 1],\n",
              "       [1, 0],\n",
              "       [0, 1],\n",
              "       [0, 1],\n",
              "       [0, 1],\n",
              "       [1, 0],\n",
              "       [0, 1],\n",
              "       [0, 1],\n",
              "       [1, 0],\n",
              "       [1, 0],\n",
              "       [1, 0],\n",
              "       [1, 0],\n",
              "       [0, 1],\n",
              "       [0, 1],\n",
              "       [0, 1],\n",
              "       [0, 1],\n",
              "       [1, 0],\n",
              "       [0, 1],\n",
              "       [0, 1],\n",
              "       [1, 0],\n",
              "       [1, 0],\n",
              "       [1, 0],\n",
              "       [1, 0],\n",
              "       [1, 0],\n",
              "       [1, 0],\n",
              "       [1, 0],\n",
              "       [0, 1],\n",
              "       [0, 1],\n",
              "       [0, 1],\n",
              "       [1, 0],\n",
              "       [1, 0],\n",
              "       [0, 1],\n",
              "       [0, 1],\n",
              "       [1, 0],\n",
              "       [0, 1],\n",
              "       [1, 0],\n",
              "       [0, 1],\n",
              "       [1, 0],\n",
              "       [0, 1],\n",
              "       [1, 0],\n",
              "       [0, 1],\n",
              "       [1, 0],\n",
              "       [0, 1],\n",
              "       [1, 0],\n",
              "       [0, 1],\n",
              "       [1, 0],\n",
              "       [0, 1],\n",
              "       [1, 0],\n",
              "       [1, 0],\n",
              "       [1, 0],\n",
              "       [0, 1],\n",
              "       [0, 1],\n",
              "       [0, 1],\n",
              "       [0, 1],\n",
              "       [1, 0],\n",
              "       [1, 0],\n",
              "       [0, 1],\n",
              "       [1, 0],\n",
              "       [0, 1],\n",
              "       [1, 0],\n",
              "       [0, 1],\n",
              "       [0, 1],\n",
              "       [1, 0],\n",
              "       [0, 1],\n",
              "       [1, 0],\n",
              "       [1, 0],\n",
              "       [1, 0],\n",
              "       [0, 1],\n",
              "       [1, 0],\n",
              "       [1, 0],\n",
              "       [0, 1],\n",
              "       [0, 1],\n",
              "       [0, 1],\n",
              "       [1, 0],\n",
              "       [0, 1],\n",
              "       [1, 0],\n",
              "       [0, 1],\n",
              "       [1, 0],\n",
              "       [1, 0],\n",
              "       [1, 0],\n",
              "       [1, 0],\n",
              "       [0, 1],\n",
              "       [0, 1],\n",
              "       [0, 1],\n",
              "       [0, 1],\n",
              "       [1, 0],\n",
              "       [0, 1],\n",
              "       [0, 1],\n",
              "       [1, 0],\n",
              "       [1, 0],\n",
              "       [0, 1],\n",
              "       [1, 0],\n",
              "       [0, 1],\n",
              "       [1, 0],\n",
              "       [1, 0],\n",
              "       [0, 1],\n",
              "       [0, 1],\n",
              "       [1, 0],\n",
              "       [1, 0],\n",
              "       [1, 0],\n",
              "       [0, 1],\n",
              "       [0, 1],\n",
              "       [0, 1],\n",
              "       [1, 0],\n",
              "       [1, 0],\n",
              "       [0, 1],\n",
              "       [0, 1],\n",
              "       [1, 0],\n",
              "       [1, 0],\n",
              "       [0, 1],\n",
              "       [0, 1],\n",
              "       [0, 1],\n",
              "       [1, 0],\n",
              "       [0, 1],\n",
              "       [0, 1],\n",
              "       [1, 0],\n",
              "       [1, 0],\n",
              "       [0, 1],\n",
              "       [0, 1],\n",
              "       [1, 0],\n",
              "       [1, 0],\n",
              "       [1, 0],\n",
              "       [0, 1],\n",
              "       [1, 0],\n",
              "       [0, 1],\n",
              "       [1, 0],\n",
              "       [0, 1],\n",
              "       [0, 1],\n",
              "       [1, 0],\n",
              "       [1, 0],\n",
              "       [1, 0],\n",
              "       [1, 0],\n",
              "       [0, 1],\n",
              "       [0, 1],\n",
              "       [0, 1],\n",
              "       [0, 1],\n",
              "       [0, 1],\n",
              "       [1, 0],\n",
              "       [0, 1],\n",
              "       [1, 0],\n",
              "       [1, 0],\n",
              "       [1, 0],\n",
              "       [1, 0],\n",
              "       [0, 1],\n",
              "       [1, 0],\n",
              "       [0, 1],\n",
              "       [0, 1],\n",
              "       [0, 1],\n",
              "       [1, 0],\n",
              "       [1, 0],\n",
              "       [1, 0],\n",
              "       [1, 0],\n",
              "       [1, 0],\n",
              "       [0, 1],\n",
              "       [0, 1],\n",
              "       [1, 0],\n",
              "       [0, 1],\n",
              "       [0, 1],\n",
              "       [1, 0],\n",
              "       [0, 1],\n",
              "       [0, 1],\n",
              "       [0, 1],\n",
              "       [1, 0],\n",
              "       [1, 0],\n",
              "       [0, 1],\n",
              "       [0, 1],\n",
              "       [1, 0],\n",
              "       [0, 1],\n",
              "       [0, 1],\n",
              "       [1, 0],\n",
              "       [1, 0],\n",
              "       [0, 1],\n",
              "       [0, 1],\n",
              "       [0, 1],\n",
              "       [1, 0],\n",
              "       [1, 0],\n",
              "       [0, 1],\n",
              "       [1, 0],\n",
              "       [1, 0],\n",
              "       [0, 1],\n",
              "       [0, 1],\n",
              "       [1, 0],\n",
              "       [1, 0],\n",
              "       [0, 1],\n",
              "       [1, 0],\n",
              "       [1, 0],\n",
              "       [1, 0],\n",
              "       [1, 0],\n",
              "       [0, 1],\n",
              "       [0, 1],\n",
              "       [0, 1],\n",
              "       [1, 0],\n",
              "       [1, 0],\n",
              "       [0, 1],\n",
              "       [0, 1],\n",
              "       [0, 1],\n",
              "       [1, 0],\n",
              "       [0, 1],\n",
              "       [1, 0],\n",
              "       [1, 0],\n",
              "       [0, 1],\n",
              "       [1, 0],\n",
              "       [1, 0],\n",
              "       [0, 1],\n",
              "       [0, 1],\n",
              "       [1, 0],\n",
              "       [0, 1],\n",
              "       [0, 1],\n",
              "       [0, 1],\n",
              "       [0, 1],\n",
              "       [1, 0],\n",
              "       [1, 0],\n",
              "       [1, 0],\n",
              "       [1, 0],\n",
              "       [0, 1],\n",
              "       [1, 0],\n",
              "       [1, 0],\n",
              "       [0, 1],\n",
              "       [1, 0],\n",
              "       [0, 1],\n",
              "       [0, 1],\n",
              "       [0, 1],\n",
              "       [1, 0],\n",
              "       [1, 0],\n",
              "       [1, 0],\n",
              "       [1, 0],\n",
              "       [0, 1],\n",
              "       [0, 1],\n",
              "       [1, 0],\n",
              "       [1, 0],\n",
              "       [0, 1],\n",
              "       [0, 1],\n",
              "       [1, 0],\n",
              "       [0, 1],\n",
              "       [1, 0],\n",
              "       [1, 0],\n",
              "       [0, 1],\n",
              "       [0, 1],\n",
              "       [0, 1],\n",
              "       [1, 0],\n",
              "       [1, 0],\n",
              "       [1, 0],\n",
              "       [0, 1],\n",
              "       [0, 1],\n",
              "       [1, 0],\n",
              "       [1, 0],\n",
              "       [0, 1],\n",
              "       [0, 1],\n",
              "       [1, 0],\n",
              "       [1, 0],\n",
              "       [1, 0],\n",
              "       [0, 1],\n",
              "       [0, 1],\n",
              "       [0, 1],\n",
              "       [0, 1],\n",
              "       [0, 1],\n",
              "       [1, 0],\n",
              "       [1, 0],\n",
              "       [0, 1],\n",
              "       [0, 1],\n",
              "       [1, 0],\n",
              "       [0, 1],\n",
              "       [1, 0],\n",
              "       [1, 0],\n",
              "       [1, 0],\n",
              "       [1, 0],\n",
              "       [0, 1],\n",
              "       [0, 1],\n",
              "       [0, 1],\n",
              "       [1, 0],\n",
              "       [0, 1],\n",
              "       [1, 0],\n",
              "       [1, 0],\n",
              "       [0, 1],\n",
              "       [0, 1],\n",
              "       [1, 0],\n",
              "       [0, 1],\n",
              "       [1, 0],\n",
              "       [0, 1],\n",
              "       [0, 1],\n",
              "       [1, 0],\n",
              "       [1, 0],\n",
              "       [1, 0],\n",
              "       [0, 1],\n",
              "       [0, 1],\n",
              "       [1, 0],\n",
              "       [1, 0],\n",
              "       [1, 0],\n",
              "       [0, 1],\n",
              "       [1, 0],\n",
              "       [1, 0],\n",
              "       [0, 1],\n",
              "       [0, 1],\n",
              "       [1, 0],\n",
              "       [0, 1],\n",
              "       [0, 1],\n",
              "       [1, 0],\n",
              "       [1, 0],\n",
              "       [1, 0],\n",
              "       [0, 1],\n",
              "       [0, 1],\n",
              "       [0, 1],\n",
              "       [0, 1],\n",
              "       [0, 1],\n",
              "       [1, 0],\n",
              "       [1, 0],\n",
              "       [1, 0],\n",
              "       [0, 1],\n",
              "       [0, 1],\n",
              "       [1, 0],\n",
              "       [0, 1],\n",
              "       [1, 0],\n",
              "       [1, 0],\n",
              "       [0, 1],\n",
              "       [0, 1],\n",
              "       [1, 0],\n",
              "       [0, 1],\n",
              "       [1, 0]], dtype=uint8)"
            ]
          },
          "metadata": {},
          "execution_count": 49
        }
      ]
    },
    {
      "cell_type": "code",
      "source": [
        "from sklearn.model_selection import train_test_split\n",
        "X_train,X_test,y_train,y_test=train_test_split(new_array1,labels,test_size=0.2,random_state=43)"
      ],
      "metadata": {
        "id": "pVAwZF-1auUr"
      },
      "execution_count": 50,
      "outputs": []
    },
    {
      "cell_type": "code",
      "source": [
        "from tensorflow.keras.models import Sequential\n",
        "from tensorflow.keras.layers import Dense,Dropout,Activation,Flatten\n",
        "from tensorflow.keras.optimizers import Adam\n",
        "from sklearn import metrics"
      ],
      "metadata": {
        "id": "wl_l2d8Aaai5"
      },
      "execution_count": 24,
      "outputs": []
    },
    {
      "cell_type": "code",
      "source": [
        "import tensorflow as tf\n",
        "from tensorflow.keras import layers\n",
        "\n",
        "# Define the input shape\n",
        "input_shape = (20, 2048)\n",
        "\n",
        "# Define the number of classes\n",
        "#num_classes = 10\n",
        "\n",
        "# Define the model\n",
        "model = tf.keras.Sequential([\n",
        "    layers.Conv1D(32, 3, activation='relu', input_shape=input_shape),\n",
        "    layers.MaxPooling1D(2),\n",
        "    layers.Conv1D(64, 3, activation='relu'),\n",
        "    layers.MaxPooling1D(2),\n",
        "    layers.Flatten(),\n",
        "    layers.Dense(128, activation='relu'),\n",
        "    layers.Dense(2, activation='softmax')\n",
        "])\n",
        "\n",
        "# Compile the model\n",
        "model.compile(\n",
        "    loss='categorical_crossentropy',\n",
        "    optimizer='adam',\n",
        "    metrics=['accuracy']\n",
        ")\n",
        "model.summary()"
      ],
      "metadata": {
        "colab": {
          "base_uri": "https://localhost:8080/"
        },
        "id": "6H9Vh_hCw9D-",
        "outputId": "7dc2616a-90e9-4999-cb04-506bf5334e5a"
      },
      "execution_count": 32,
      "outputs": [
        {
          "output_type": "stream",
          "name": "stdout",
          "text": [
            "Model: \"sequential_1\"\n",
            "_________________________________________________________________\n",
            " Layer (type)                Output Shape              Param #   \n",
            "=================================================================\n",
            " conv1d_2 (Conv1D)           (None, 18, 32)            196640    \n",
            "                                                                 \n",
            " max_pooling1d_2 (MaxPooling  (None, 9, 32)            0         \n",
            " 1D)                                                             \n",
            "                                                                 \n",
            " conv1d_3 (Conv1D)           (None, 7, 64)             6208      \n",
            "                                                                 \n",
            " max_pooling1d_3 (MaxPooling  (None, 3, 64)            0         \n",
            " 1D)                                                             \n",
            "                                                                 \n",
            " flatten_1 (Flatten)         (None, 192)               0         \n",
            "                                                                 \n",
            " dense_4 (Dense)             (None, 128)               24704     \n",
            "                                                                 \n",
            " dense_5 (Dense)             (None, 2)                 258       \n",
            "                                                                 \n",
            "=================================================================\n",
            "Total params: 227,810\n",
            "Trainable params: 227,810\n",
            "Non-trainable params: 0\n",
            "_________________________________________________________________\n"
          ]
        }
      ]
    },
    {
      "cell_type": "code",
      "source": [
        "k=np.array([])"
      ],
      "metadata": {
        "id": "t2jvmMBA2KXc"
      },
      "execution_count": null,
      "outputs": []
    },
    {
      "cell_type": "markdown",
      "source": [
        "#Model_run(CNN) just video data"
      ],
      "metadata": {
        "id": "33e7sRmzDsR-"
      }
    },
    {
      "cell_type": "code",
      "source": [
        "model.fit(X_train,y_train,epochs=100)"
      ],
      "metadata": {
        "colab": {
          "base_uri": "https://localhost:8080/"
        },
        "id": "AQQsZE_-xcEL",
        "outputId": "7e8ba5a5-b37b-471c-a87b-9142b71fad14"
      },
      "execution_count": 26,
      "outputs": [
        {
          "output_type": "stream",
          "name": "stdout",
          "text": [
            "Epoch 1/100\n",
            "8/8 [==============================] - 2s 39ms/step - loss: 0.7826 - accuracy: 0.5156\n",
            "Epoch 2/100\n",
            "8/8 [==============================] - 0s 36ms/step - loss: 0.7284 - accuracy: 0.5312\n",
            "Epoch 3/100\n",
            "8/8 [==============================] - 0s 40ms/step - loss: 0.7170 - accuracy: 0.5742\n",
            "Epoch 4/100\n",
            "8/8 [==============================] - 0s 36ms/step - loss: 0.6472 - accuracy: 0.6133\n",
            "Epoch 5/100\n",
            "8/8 [==============================] - 0s 39ms/step - loss: 0.5865 - accuracy: 0.7266\n",
            "Epoch 6/100\n",
            "8/8 [==============================] - 0s 34ms/step - loss: 0.5849 - accuracy: 0.6328\n",
            "Epoch 7/100\n",
            "8/8 [==============================] - 0s 37ms/step - loss: 0.5033 - accuracy: 0.8125\n",
            "Epoch 8/100\n",
            "8/8 [==============================] - 0s 43ms/step - loss: 0.4636 - accuracy: 0.8164\n",
            "Epoch 9/100\n",
            "8/8 [==============================] - 0s 60ms/step - loss: 0.4155 - accuracy: 0.8477\n",
            "Epoch 10/100\n",
            "8/8 [==============================] - 0s 56ms/step - loss: 0.3790 - accuracy: 0.8516\n",
            "Epoch 11/100\n",
            "8/8 [==============================] - 0s 57ms/step - loss: 0.2896 - accuracy: 0.9531\n",
            "Epoch 12/100\n",
            "8/8 [==============================] - 1s 71ms/step - loss: 0.2248 - accuracy: 0.9688\n",
            "Epoch 13/100\n",
            "8/8 [==============================] - 1s 117ms/step - loss: 0.1855 - accuracy: 0.9609\n",
            "Epoch 14/100\n",
            "8/8 [==============================] - 1s 118ms/step - loss: 0.2166 - accuracy: 0.9141\n",
            "Epoch 15/100\n",
            "8/8 [==============================] - 1s 99ms/step - loss: 0.1997 - accuracy: 0.9219\n",
            "Epoch 16/100\n",
            "8/8 [==============================] - 1s 154ms/step - loss: 0.1281 - accuracy: 0.9805\n",
            "Epoch 17/100\n",
            "8/8 [==============================] - 1s 59ms/step - loss: 0.0805 - accuracy: 1.0000\n",
            "Epoch 18/100\n",
            "8/8 [==============================] - 1s 78ms/step - loss: 0.0553 - accuracy: 1.0000\n",
            "Epoch 19/100\n",
            "8/8 [==============================] - 1s 75ms/step - loss: 0.0419 - accuracy: 1.0000\n",
            "Epoch 20/100\n",
            "8/8 [==============================] - 1s 74ms/step - loss: 0.0313 - accuracy: 1.0000\n",
            "Epoch 21/100\n",
            "8/8 [==============================] - 1s 68ms/step - loss: 0.0243 - accuracy: 1.0000\n",
            "Epoch 22/100\n",
            "8/8 [==============================] - 1s 66ms/step - loss: 0.0184 - accuracy: 1.0000\n",
            "Epoch 23/100\n",
            "8/8 [==============================] - 1s 82ms/step - loss: 0.0163 - accuracy: 1.0000\n",
            "Epoch 24/100\n",
            "8/8 [==============================] - 1s 96ms/step - loss: 0.0123 - accuracy: 1.0000\n",
            "Epoch 25/100\n",
            "8/8 [==============================] - 1s 101ms/step - loss: 0.0103 - accuracy: 1.0000\n",
            "Epoch 26/100\n",
            "8/8 [==============================] - 1s 93ms/step - loss: 0.0088 - accuracy: 1.0000\n",
            "Epoch 27/100\n",
            "8/8 [==============================] - 1s 117ms/step - loss: 0.0076 - accuracy: 1.0000\n",
            "Epoch 28/100\n",
            "8/8 [==============================] - 1s 99ms/step - loss: 0.0066 - accuracy: 1.0000\n",
            "Epoch 29/100\n",
            "8/8 [==============================] - 1s 86ms/step - loss: 0.0058 - accuracy: 1.0000\n",
            "Epoch 30/100\n",
            "8/8 [==============================] - 1s 62ms/step - loss: 0.0051 - accuracy: 1.0000\n",
            "Epoch 31/100\n",
            "8/8 [==============================] - 0s 60ms/step - loss: 0.0044 - accuracy: 1.0000\n",
            "Epoch 32/100\n",
            "8/8 [==============================] - 1s 65ms/step - loss: 0.0039 - accuracy: 1.0000\n",
            "Epoch 33/100\n",
            "8/8 [==============================] - 0s 59ms/step - loss: 0.0038 - accuracy: 1.0000\n",
            "Epoch 34/100\n",
            "8/8 [==============================] - 0s 58ms/step - loss: 0.0034 - accuracy: 1.0000\n",
            "Epoch 35/100\n",
            "8/8 [==============================] - 1s 63ms/step - loss: 0.0030 - accuracy: 1.0000\n",
            "Epoch 36/100\n",
            "8/8 [==============================] - 0s 58ms/step - loss: 0.0026 - accuracy: 1.0000\n",
            "Epoch 37/100\n",
            "8/8 [==============================] - 1s 62ms/step - loss: 0.0023 - accuracy: 1.0000\n",
            "Epoch 38/100\n",
            "8/8 [==============================] - 0s 58ms/step - loss: 0.0021 - accuracy: 1.0000\n",
            "Epoch 39/100\n",
            "8/8 [==============================] - 0s 60ms/step - loss: 0.0019 - accuracy: 1.0000\n",
            "Epoch 40/100\n",
            "8/8 [==============================] - 0s 61ms/step - loss: 0.0018 - accuracy: 1.0000\n",
            "Epoch 41/100\n",
            "8/8 [==============================] - 0s 60ms/step - loss: 0.0017 - accuracy: 1.0000\n",
            "Epoch 42/100\n",
            "8/8 [==============================] - 0s 59ms/step - loss: 0.0016 - accuracy: 1.0000\n",
            "Epoch 43/100\n",
            "8/8 [==============================] - 0s 35ms/step - loss: 0.0014 - accuracy: 1.0000\n",
            "Epoch 44/100\n",
            "8/8 [==============================] - 0s 36ms/step - loss: 0.0013 - accuracy: 1.0000\n",
            "Epoch 45/100\n",
            "8/8 [==============================] - 0s 38ms/step - loss: 0.0013 - accuracy: 1.0000\n",
            "Epoch 46/100\n",
            "8/8 [==============================] - 0s 34ms/step - loss: 0.0012 - accuracy: 1.0000\n",
            "Epoch 47/100\n",
            "8/8 [==============================] - 0s 62ms/step - loss: 0.0011 - accuracy: 1.0000\n",
            "Epoch 48/100\n",
            "8/8 [==============================] - 0s 36ms/step - loss: 0.0010 - accuracy: 1.0000\n",
            "Epoch 49/100\n",
            "8/8 [==============================] - 0s 34ms/step - loss: 9.6652e-04 - accuracy: 1.0000\n",
            "Epoch 50/100\n",
            "8/8 [==============================] - 0s 34ms/step - loss: 9.0797e-04 - accuracy: 1.0000\n",
            "Epoch 51/100\n",
            "8/8 [==============================] - 0s 36ms/step - loss: 8.6538e-04 - accuracy: 1.0000\n",
            "Epoch 52/100\n",
            "8/8 [==============================] - 0s 37ms/step - loss: 8.1472e-04 - accuracy: 1.0000\n",
            "Epoch 53/100\n",
            "8/8 [==============================] - 0s 35ms/step - loss: 7.7568e-04 - accuracy: 1.0000\n",
            "Epoch 54/100\n",
            "8/8 [==============================] - 0s 36ms/step - loss: 7.3953e-04 - accuracy: 1.0000\n",
            "Epoch 55/100\n",
            "8/8 [==============================] - 0s 35ms/step - loss: 7.0537e-04 - accuracy: 1.0000\n",
            "Epoch 56/100\n",
            "8/8 [==============================] - 0s 34ms/step - loss: 6.7676e-04 - accuracy: 1.0000\n",
            "Epoch 57/100\n",
            "8/8 [==============================] - 0s 39ms/step - loss: 6.3603e-04 - accuracy: 1.0000\n",
            "Epoch 58/100\n",
            "8/8 [==============================] - 0s 34ms/step - loss: 6.0620e-04 - accuracy: 1.0000\n",
            "Epoch 59/100\n",
            "8/8 [==============================] - 0s 37ms/step - loss: 5.8571e-04 - accuracy: 1.0000\n",
            "Epoch 60/100\n",
            "8/8 [==============================] - 0s 38ms/step - loss: 5.4976e-04 - accuracy: 1.0000\n",
            "Epoch 61/100\n",
            "8/8 [==============================] - 0s 35ms/step - loss: 5.2993e-04 - accuracy: 1.0000\n",
            "Epoch 62/100\n",
            "8/8 [==============================] - 0s 36ms/step - loss: 5.0313e-04 - accuracy: 1.0000\n",
            "Epoch 63/100\n",
            "8/8 [==============================] - 0s 36ms/step - loss: 4.8351e-04 - accuracy: 1.0000\n",
            "Epoch 64/100\n",
            "8/8 [==============================] - 0s 36ms/step - loss: 4.6713e-04 - accuracy: 1.0000\n",
            "Epoch 65/100\n",
            "8/8 [==============================] - 0s 38ms/step - loss: 4.4274e-04 - accuracy: 1.0000\n",
            "Epoch 66/100\n",
            "8/8 [==============================] - 0s 36ms/step - loss: 4.2554e-04 - accuracy: 1.0000\n",
            "Epoch 67/100\n",
            "8/8 [==============================] - 0s 42ms/step - loss: 4.0313e-04 - accuracy: 1.0000\n",
            "Epoch 68/100\n",
            "8/8 [==============================] - 0s 38ms/step - loss: 3.8373e-04 - accuracy: 1.0000\n",
            "Epoch 69/100\n",
            "8/8 [==============================] - 0s 37ms/step - loss: 3.6451e-04 - accuracy: 1.0000\n",
            "Epoch 70/100\n",
            "8/8 [==============================] - 0s 35ms/step - loss: 3.4626e-04 - accuracy: 1.0000\n",
            "Epoch 71/100\n",
            "8/8 [==============================] - 0s 37ms/step - loss: 3.2533e-04 - accuracy: 1.0000\n",
            "Epoch 72/100\n",
            "8/8 [==============================] - 0s 34ms/step - loss: 3.1180e-04 - accuracy: 1.0000\n",
            "Epoch 73/100\n",
            "8/8 [==============================] - 0s 37ms/step - loss: 2.9634e-04 - accuracy: 1.0000\n",
            "Epoch 74/100\n",
            "8/8 [==============================] - 0s 37ms/step - loss: 2.8223e-04 - accuracy: 1.0000\n",
            "Epoch 75/100\n",
            "8/8 [==============================] - 0s 35ms/step - loss: 2.6672e-04 - accuracy: 1.0000\n",
            "Epoch 76/100\n",
            "8/8 [==============================] - 0s 60ms/step - loss: 2.5670e-04 - accuracy: 1.0000\n",
            "Epoch 77/100\n",
            "8/8 [==============================] - 0s 60ms/step - loss: 2.4491e-04 - accuracy: 1.0000\n",
            "Epoch 78/100\n",
            "8/8 [==============================] - 0s 59ms/step - loss: 2.3402e-04 - accuracy: 1.0000\n",
            "Epoch 79/100\n",
            "8/8 [==============================] - 0s 61ms/step - loss: 2.2317e-04 - accuracy: 1.0000\n",
            "Epoch 80/100\n",
            "8/8 [==============================] - 0s 61ms/step - loss: 2.1334e-04 - accuracy: 1.0000\n",
            "Epoch 81/100\n",
            "8/8 [==============================] - 1s 64ms/step - loss: 2.0375e-04 - accuracy: 1.0000\n",
            "Epoch 82/100\n",
            "8/8 [==============================] - 0s 61ms/step - loss: 1.9480e-04 - accuracy: 1.0000\n",
            "Epoch 83/100\n",
            "8/8 [==============================] - 1s 64ms/step - loss: 1.8673e-04 - accuracy: 1.0000\n",
            "Epoch 84/100\n",
            "8/8 [==============================] - 0s 57ms/step - loss: 1.7939e-04 - accuracy: 1.0000\n",
            "Epoch 85/100\n",
            "8/8 [==============================] - 0s 60ms/step - loss: 1.7139e-04 - accuracy: 1.0000\n",
            "Epoch 86/100\n",
            "8/8 [==============================] - 0s 42ms/step - loss: 1.6400e-04 - accuracy: 1.0000\n",
            "Epoch 87/100\n",
            "8/8 [==============================] - 0s 36ms/step - loss: 1.5957e-04 - accuracy: 1.0000\n",
            "Epoch 88/100\n",
            "8/8 [==============================] - 0s 36ms/step - loss: 1.5006e-04 - accuracy: 1.0000\n",
            "Epoch 89/100\n",
            "8/8 [==============================] - 0s 39ms/step - loss: 1.4425e-04 - accuracy: 1.0000\n",
            "Epoch 90/100\n",
            "8/8 [==============================] - 0s 35ms/step - loss: 1.3793e-04 - accuracy: 1.0000\n",
            "Epoch 91/100\n",
            "8/8 [==============================] - 0s 37ms/step - loss: 1.3258e-04 - accuracy: 1.0000\n",
            "Epoch 92/100\n",
            "8/8 [==============================] - 0s 37ms/step - loss: 1.2804e-04 - accuracy: 1.0000\n",
            "Epoch 93/100\n",
            "8/8 [==============================] - 0s 36ms/step - loss: 1.2220e-04 - accuracy: 1.0000\n",
            "Epoch 94/100\n",
            "8/8 [==============================] - 0s 37ms/step - loss: 1.1765e-04 - accuracy: 1.0000\n",
            "Epoch 95/100\n",
            "8/8 [==============================] - 0s 37ms/step - loss: 1.1371e-04 - accuracy: 1.0000\n",
            "Epoch 96/100\n",
            "8/8 [==============================] - 0s 38ms/step - loss: 1.0911e-04 - accuracy: 1.0000\n",
            "Epoch 97/100\n",
            "8/8 [==============================] - 0s 34ms/step - loss: 1.0516e-04 - accuracy: 1.0000\n",
            "Epoch 98/100\n",
            "8/8 [==============================] - 0s 35ms/step - loss: 1.0044e-04 - accuracy: 1.0000\n",
            "Epoch 99/100\n",
            "8/8 [==============================] - 0s 34ms/step - loss: 9.6707e-05 - accuracy: 1.0000\n",
            "Epoch 100/100\n",
            "8/8 [==============================] - 0s 36ms/step - loss: 9.3108e-05 - accuracy: 1.0000\n"
          ]
        },
        {
          "output_type": "execute_result",
          "data": {
            "text/plain": [
              "<keras.callbacks.History at 0x7f74ccdd91b0>"
            ]
          },
          "metadata": {},
          "execution_count": 26
        }
      ]
    },
    {
      "cell_type": "code",
      "source": [
        "test_loss, test_acc = model.evaluate(X_test,y_test)"
      ],
      "metadata": {
        "colab": {
          "base_uri": "https://localhost:8080/"
        },
        "id": "Nf_uBBdIa605",
        "outputId": "58f2cd02-69ae-4cd1-c73e-75d31072b90f"
      },
      "execution_count": 27,
      "outputs": [
        {
          "output_type": "stream",
          "name": "stdout",
          "text": [
            "2/2 [==============================] - 0s 16ms/step - loss: 3.7465 - accuracy: 0.4062\n"
          ]
        }
      ]
    },
    {
      "cell_type": "markdown",
      "source": [
        "#Extra Work for preprocessing"
      ],
      "metadata": {
        "id": "4Ig8l5lwD7zg"
      }
    },
    {
      "cell_type": "code",
      "source": [
        "'''import csv\n",
        "with open('train_data.csv', 'w', newline='') as f:\n",
        "    writer = csv.writer(f)\n",
        "    writer.writerows(train_data)'''"
      ],
      "metadata": {
        "id": "C_kuAKXVw_3M",
        "colab": {
          "base_uri": "https://localhost:8080/",
          "height": 53
        },
        "outputId": "00df9c83-14bb-408f-9ec9-49f6cd1fc86c"
      },
      "execution_count": null,
      "outputs": [
        {
          "output_type": "execute_result",
          "data": {
            "text/plain": [
              "\"import csv\\nwith open('train_data.csv', 'w', newline='') as f:\\n    writer = csv.writer(f)\\n    writer.writerows(train_data)\""
            ],
            "application/vnd.google.colaboratory.intrinsic+json": {
              "type": "string"
            }
          },
          "metadata": {},
          "execution_count": 59
        }
      ]
    },
    {
      "cell_type": "code",
      "source": [
        "'''# Define the tuple\n",
        "my_tuple = (1, 2, 3, 4, 5)\n",
        "\n",
        "# Save the tuple as text\n",
        "import csv\n",
        "with open('train_data.txt', 'w', newline='') as f:\n",
        "    writer = csv.writer(f)\n",
        "    writer.writerows(train_data)'''\n"
      ],
      "metadata": {
        "id": "s_bW7Jl5MXo_",
        "colab": {
          "base_uri": "https://localhost:8080/",
          "height": 53
        },
        "outputId": "1c31c9aa-6762-4bd2-b856-f96368aed868"
      },
      "execution_count": null,
      "outputs": [
        {
          "output_type": "execute_result",
          "data": {
            "text/plain": [
              "\"# Define the tuple\\nmy_tuple = (1, 2, 3, 4, 5)\\n\\n# Save the tuple as text\\nimport csv\\nwith open('train_data.txt', 'w', newline='') as f:\\n    writer = csv.writer(f)\\n    writer.writerows(train_data)\""
            ],
            "application/vnd.google.colaboratory.intrinsic+json": {
              "type": "string"
            }
          },
          "metadata": {},
          "execution_count": 60
        }
      ]
    },
    {
      "cell_type": "code",
      "source": [
        "#new_array1.shape,my_tuple.shape"
      ],
      "metadata": {
        "id": "_cKPIiVdkgPl"
      },
      "execution_count": null,
      "outputs": []
    },
    {
      "cell_type": "code",
      "source": [
        "'''k=False\n",
        "o=[]\n",
        "for i in range(1,21):\n",
        "  o.append(k)\n",
        "\n",
        "len(o),o'''"
      ],
      "metadata": {
        "colab": {
          "base_uri": "https://localhost:8080/",
          "height": 35
        },
        "id": "m3_PG43dLTJy",
        "outputId": "ca40252e-7b2e-4fd5-bf13-f7c2cad98c84"
      },
      "execution_count": null,
      "outputs": [
        {
          "output_type": "execute_result",
          "data": {
            "text/plain": [
              "'k=False\\no=[]\\nfor i in range(1,21):\\n  o.append(k)\\n\\nlen(o),o'"
            ],
            "application/vnd.google.colaboratory.intrinsic+json": {
              "type": "string"
            }
          },
          "metadata": {},
          "execution_count": 62
        }
      ]
    },
    {
      "cell_type": "code",
      "source": [
        "'''mask = my_tuple[1] == o\n",
        "rows = np.where(mask)[0]\n",
        "print(rows)'''"
      ],
      "metadata": {
        "colab": {
          "base_uri": "https://localhost:8080/",
          "height": 35
        },
        "id": "nyDriPPeLDxg",
        "outputId": "e7b6ec48-625e-4b11-c0ef-682a75cea200"
      },
      "execution_count": null,
      "outputs": [
        {
          "output_type": "execute_result",
          "data": {
            "text/plain": [
              "'mask = my_tuple[1] == o\\nrows = np.where(mask)[0]\\nprint(rows)'"
            ],
            "application/vnd.google.colaboratory.intrinsic+json": {
              "type": "string"
            }
          },
          "metadata": {},
          "execution_count": 63
        }
      ]
    },
    {
      "cell_type": "code",
      "source": [],
      "metadata": {
        "id": "_NHJuzrQUcSl"
      },
      "execution_count": null,
      "outputs": []
    },
    {
      "cell_type": "markdown",
      "source": [
        "#Audio Features and Text features taken from Pickle file for concatenated model run"
      ],
      "metadata": {
        "id": "yz1Sy0oeEEPH"
      }
    },
    {
      "cell_type": "code",
      "source": [
        "with open('/content/Text_data.pkl', 'rb') as f:\n",
        "    text_features = pickle.load(f)\n",
        "text_features = np.repeat(text_features[:, np.newaxis, :], 20, axis=1)"
      ],
      "metadata": {
        "id": "ELEHISQcnwEm"
      },
      "execution_count": 29,
      "outputs": []
    },
    {
      "cell_type": "code",
      "source": [
        "import pickle\n",
        "\n",
        "with open('/content/Audio_features', 'rb') as f:\n",
        "    audio_features = pickle.load(f)\n",
        "audio_features = np.repeat(audio_features[:, np.newaxis, :], 20, axis=1)"
      ],
      "metadata": {
        "id": "Nqv2Uw6KQvOR"
      },
      "execution_count": 30,
      "outputs": []
    },
    {
      "cell_type": "code",
      "source": [
        "text_features.shape"
      ],
      "metadata": {
        "colab": {
          "base_uri": "https://localhost:8080/"
        },
        "id": "FnACt0KIQtlM",
        "outputId": "6db44052-9019-458e-e116-aad3e714e43b"
      },
      "execution_count": null,
      "outputs": [
        {
          "output_type": "execute_result",
          "data": {
            "text/plain": [
              "(320, 20, 163)"
            ]
          },
          "metadata": {},
          "execution_count": 66
        }
      ]
    },
    {
      "cell_type": "code",
      "source": [
        "labels.shape\n",
        "video_features=new_array1\n",
        "concatenated_data = np.concatenate([video_features, audio_features,text_features], axis=-1)"
      ],
      "metadata": {
        "id": "Jvp9fzRFoJDA"
      },
      "execution_count": 33,
      "outputs": []
    },
    {
      "cell_type": "code",
      "source": [
        "labels.shape"
      ],
      "metadata": {
        "colab": {
          "base_uri": "https://localhost:8080/"
        },
        "id": "7SWC3v7KTNKX",
        "outputId": "3b584806-d391-40e1-ac00-34a110e930c9"
      },
      "execution_count": null,
      "outputs": [
        {
          "output_type": "execute_result",
          "data": {
            "text/plain": [
              "(320, 2)"
            ]
          },
          "metadata": {},
          "execution_count": 68
        }
      ]
    },
    {
      "cell_type": "markdown",
      "source": [
        "#Model Run CNN (concatenated Data)"
      ],
      "metadata": {
        "id": "DAl1BJnnEPSx"
      }
    },
    {
      "cell_type": "code",
      "source": [
        "from sklearn.model_selection import train_test_split\n",
        "X_train,X_test,y_train,y_test=train_test_split(concatenated_data,labels,test_size=0.3,random_state=43)"
      ],
      "metadata": {
        "id": "cheq12WjhKYI"
      },
      "execution_count": 34,
      "outputs": []
    },
    {
      "cell_type": "code",
      "source": [
        "from keras.regularizers import l2\n",
        "\n",
        "model = keras.models.Sequential([\n",
        "    keras.layers.Conv1D(filters=32, kernel_size=3, activation='relu', input_shape=(20, 2251)),\n",
        "    keras.layers.MaxPooling1D(pool_size=2),\n",
        "    keras.layers.Flatten(),\n",
        "    keras.layers.Dense(units=64, activation='relu', kernel_regularizer=l2(0.01)),\n",
        "    \n",
        "    keras.layers.Dense(units=2, activation='sigmoid')\n",
        "])\n",
        "\n",
        "model.compile(\n",
        "    loss='categorical_crossentropy',\n",
        "    optimizer='adam',\n",
        "    metrics=['accuracy']\n",
        ")\n",
        "\n",
        "model.summary()\n"
      ],
      "metadata": {
        "colab": {
          "base_uri": "https://localhost:8080/"
        },
        "id": "Hec6sz9NgYBI",
        "outputId": "aec6e2e5-57c5-4e02-8e90-b452ba8cbfbf"
      },
      "execution_count": 35,
      "outputs": [
        {
          "output_type": "stream",
          "name": "stdout",
          "text": [
            "Model: \"sequential_2\"\n",
            "_________________________________________________________________\n",
            " Layer (type)                Output Shape              Param #   \n",
            "=================================================================\n",
            " conv1d_4 (Conv1D)           (None, 18, 32)            216128    \n",
            "                                                                 \n",
            " max_pooling1d_4 (MaxPooling  (None, 9, 32)            0         \n",
            " 1D)                                                             \n",
            "                                                                 \n",
            " flatten_2 (Flatten)         (None, 288)               0         \n",
            "                                                                 \n",
            " dense_6 (Dense)             (None, 64)                18496     \n",
            "                                                                 \n",
            " dense_7 (Dense)             (None, 2)                 130       \n",
            "                                                                 \n",
            "=================================================================\n",
            "Total params: 234,754\n",
            "Trainable params: 234,754\n",
            "Non-trainable params: 0\n",
            "_________________________________________________________________\n"
          ]
        }
      ]
    },
    {
      "cell_type": "code",
      "source": [
        "y_train.shape"
      ],
      "metadata": {
        "colab": {
          "base_uri": "https://localhost:8080/"
        },
        "id": "iaKNuc5WTHCi",
        "outputId": "8233fa94-8b19-4f25-bcf8-f67f1714bad7"
      },
      "execution_count": null,
      "outputs": [
        {
          "output_type": "execute_result",
          "data": {
            "text/plain": [
              "(224, 2)"
            ]
          },
          "metadata": {},
          "execution_count": 71
        }
      ]
    },
    {
      "cell_type": "code",
      "source": [
        "model.fit(X_train,y_train,epochs=15)"
      ],
      "metadata": {
        "colab": {
          "base_uri": "https://localhost:8080/"
        },
        "id": "UykPaTFSgeWQ",
        "outputId": "1954d048-48ad-4cac-8db8-006d2e187986"
      },
      "execution_count": 36,
      "outputs": [
        {
          "output_type": "stream",
          "name": "stdout",
          "text": [
            "Epoch 1/15\n",
            "7/7 [==============================] - 3s 74ms/step - loss: 36.7281 - accuracy: 0.5357\n",
            "Epoch 2/15\n",
            "7/7 [==============================] - 0s 66ms/step - loss: 11.9516 - accuracy: 0.5982\n",
            "Epoch 3/15\n",
            "7/7 [==============================] - 0s 68ms/step - loss: 5.1099 - accuracy: 0.7366\n",
            "Epoch 4/15\n",
            "7/7 [==============================] - 0s 64ms/step - loss: 3.0202 - accuracy: 0.8125\n",
            "Epoch 5/15\n",
            "7/7 [==============================] - 0s 62ms/step - loss: 2.1909 - accuracy: 0.9062\n",
            "Epoch 6/15\n",
            "7/7 [==============================] - 0s 63ms/step - loss: 1.3926 - accuracy: 0.9152\n",
            "Epoch 7/15\n",
            "7/7 [==============================] - 0s 62ms/step - loss: 1.1522 - accuracy: 0.9688\n",
            "Epoch 8/15\n",
            "7/7 [==============================] - 0s 68ms/step - loss: 1.1512 - accuracy: 0.9688\n",
            "Epoch 9/15\n",
            "7/7 [==============================] - 0s 67ms/step - loss: 1.0664 - accuracy: 0.9866\n",
            "Epoch 10/15\n",
            "7/7 [==============================] - 0s 66ms/step - loss: 1.1179 - accuracy: 0.9821\n",
            "Epoch 11/15\n",
            "7/7 [==============================] - 0s 51ms/step - loss: 1.0138 - accuracy: 0.9866\n",
            "Epoch 12/15\n",
            "7/7 [==============================] - 0s 37ms/step - loss: 1.0270 - accuracy: 0.9866\n",
            "Epoch 13/15\n",
            "7/7 [==============================] - 0s 37ms/step - loss: 1.0197 - accuracy: 0.9732\n",
            "Epoch 14/15\n",
            "7/7 [==============================] - 0s 39ms/step - loss: 0.9784 - accuracy: 0.9955\n",
            "Epoch 15/15\n",
            "7/7 [==============================] - 0s 37ms/step - loss: 0.9789 - accuracy: 0.9911\n"
          ]
        },
        {
          "output_type": "execute_result",
          "data": {
            "text/plain": [
              "<keras.callbacks.History at 0x7f74e6852320>"
            ]
          },
          "metadata": {},
          "execution_count": 36
        }
      ]
    },
    {
      "cell_type": "code",
      "source": [
        "test_loss, test_acc = model.evaluate(X_test,y_test)"
      ],
      "metadata": {
        "colab": {
          "base_uri": "https://localhost:8080/"
        },
        "id": "EROvdzuxhkia",
        "outputId": "e00f74ba-8f02-49fb-ded4-2cf2f7e07fd6"
      },
      "execution_count": 37,
      "outputs": [
        {
          "output_type": "stream",
          "name": "stdout",
          "text": [
            "3/3 [==============================] - 0s 22ms/step - loss: 17.3027 - accuracy: 0.3854\n"
          ]
        }
      ]
    },
    {
      "cell_type": "markdown",
      "source": [
        "# Final model with better accuracy: "
      ],
      "metadata": {
        "id": "xSMucDfQSw5a"
      }
    },
    {
      "cell_type": "code",
      "source": [
        "from sklearn.model_selection import train_test_split\n",
        "from keras.regularizers import l2\n",
        "from keras.optimizers import Adam\n",
        "\n",
        "X_train, X_test, y_train, y_test = train_test_split(concatenated_data, labels, test_size=0.3, random_state=43)\n",
        "\n",
        "model = keras.models.Sequential([\n",
        "    keras.layers.Conv1D(filters=32, kernel_size=3, activation='relu', input_shape=(20, 2251)),\n",
        "    keras.layers.MaxPooling1D(pool_size=2),\n",
        "    keras.layers.Flatten(),\n",
        "    keras.layers.Dense(units=64, activation='relu', kernel_regularizer=l2(0.01)),\n",
        "    keras.layers.Dense(units=2, activation='sigmoid')\n",
        "])\n",
        "\n",
        "optimizer = Adam(lr=0.001) \n",
        "model.compile(\n",
        "    loss='categorical_crossentropy',\n",
        "    optimizer=optimizer,\n",
        "    metrics=['accuracy'])\n",
        "\n",
        "model.summary()\n",
        "\n",
        "y_train.shape\n",
        "\n",
        "model.fit(X_train, y_train, epochs=50)"
      ],
      "metadata": {
        "colab": {
          "base_uri": "https://localhost:8080/"
        },
        "id": "VAnoJHAt5aJm",
        "outputId": "a30cadbc-b4ff-4705-8793-2c40743afbbf"
      },
      "execution_count": 55,
      "outputs": [
        {
          "output_type": "stream",
          "name": "stdout",
          "text": [
            "Model: \"sequential_4\"\n",
            "_________________________________________________________________\n",
            " Layer (type)                Output Shape              Param #   \n",
            "=================================================================\n",
            " conv1d_6 (Conv1D)           (None, 18, 32)            216128    \n",
            "                                                                 \n",
            " max_pooling1d_6 (MaxPooling  (None, 9, 32)            0         \n",
            " 1D)                                                             \n",
            "                                                                 \n",
            " flatten_4 (Flatten)         (None, 288)               0         \n",
            "                                                                 \n",
            " dense_14 (Dense)            (None, 64)                18496     \n",
            "                                                                 \n",
            " dense_15 (Dense)            (None, 2)                 130       \n",
            "                                                                 \n",
            "=================================================================\n",
            "Total params: 234,754\n",
            "Trainable params: 234,754\n",
            "Non-trainable params: 0\n",
            "_________________________________________________________________\n",
            "Epoch 1/50\n",
            "7/7 [==============================] - 1s 37ms/step - loss: 41.9227 - accuracy: 0.4554\n",
            "Epoch 2/50\n",
            "7/7 [==============================] - 0s 32ms/step - loss: 9.6701 - accuracy: 0.6607\n",
            "Epoch 3/50\n",
            "7/7 [==============================] - 0s 35ms/step - loss: 5.7350 - accuracy: 0.7143\n",
            "Epoch 4/50\n",
            "7/7 [==============================] - 0s 34ms/step - loss: 3.0536 - accuracy: 0.8125\n",
            "Epoch 5/50\n",
            "7/7 [==============================] - 0s 35ms/step - loss: 1.7811 - accuracy: 0.9196\n",
            "Epoch 6/50\n",
            "7/7 [==============================] - 0s 34ms/step - loss: 1.5559 - accuracy: 0.9330\n",
            "Epoch 7/50\n",
            "7/7 [==============================] - 0s 35ms/step - loss: 1.1928 - accuracy: 0.9598\n",
            "Epoch 8/50\n",
            "7/7 [==============================] - 0s 33ms/step - loss: 1.0477 - accuracy: 0.9866\n",
            "Epoch 9/50\n",
            "7/7 [==============================] - 0s 33ms/step - loss: 1.0624 - accuracy: 0.9911\n",
            "Epoch 10/50\n",
            "7/7 [==============================] - 0s 33ms/step - loss: 1.0560 - accuracy: 0.9911\n",
            "Epoch 11/50\n",
            "7/7 [==============================] - 0s 36ms/step - loss: 1.0150 - accuracy: 0.9911\n",
            "Epoch 12/50\n",
            "7/7 [==============================] - 0s 32ms/step - loss: 1.0142 - accuracy: 0.9955\n",
            "Epoch 13/50\n",
            "7/7 [==============================] - 0s 34ms/step - loss: 1.0106 - accuracy: 0.9955\n",
            "Epoch 14/50\n",
            "7/7 [==============================] - 0s 36ms/step - loss: 0.9976 - accuracy: 1.0000\n",
            "Epoch 15/50\n",
            "7/7 [==============================] - 0s 33ms/step - loss: 0.9934 - accuracy: 1.0000\n",
            "Epoch 16/50\n",
            "7/7 [==============================] - 0s 34ms/step - loss: 0.9887 - accuracy: 1.0000\n",
            "Epoch 17/50\n",
            "7/7 [==============================] - 0s 34ms/step - loss: 0.9847 - accuracy: 1.0000\n",
            "Epoch 18/50\n",
            "7/7 [==============================] - 0s 37ms/step - loss: 0.9806 - accuracy: 1.0000\n",
            "Epoch 19/50\n",
            "7/7 [==============================] - 0s 34ms/step - loss: 0.9768 - accuracy: 1.0000\n",
            "Epoch 20/50\n",
            "7/7 [==============================] - 0s 34ms/step - loss: 0.9729 - accuracy: 1.0000\n",
            "Epoch 21/50\n",
            "7/7 [==============================] - 0s 38ms/step - loss: 0.9691 - accuracy: 1.0000\n",
            "Epoch 22/50\n",
            "7/7 [==============================] - 0s 38ms/step - loss: 0.9654 - accuracy: 1.0000\n",
            "Epoch 23/50\n",
            "7/7 [==============================] - 0s 36ms/step - loss: 0.9616 - accuracy: 1.0000\n",
            "Epoch 24/50\n",
            "7/7 [==============================] - 0s 34ms/step - loss: 0.9579 - accuracy: 1.0000\n",
            "Epoch 25/50\n",
            "7/7 [==============================] - 0s 34ms/step - loss: 0.9542 - accuracy: 1.0000\n",
            "Epoch 26/50\n",
            "7/7 [==============================] - 0s 36ms/step - loss: 0.9505 - accuracy: 1.0000\n",
            "Epoch 27/50\n",
            "7/7 [==============================] - 0s 35ms/step - loss: 0.9468 - accuracy: 1.0000\n",
            "Epoch 28/50\n",
            "7/7 [==============================] - 0s 34ms/step - loss: 0.9431 - accuracy: 1.0000\n",
            "Epoch 29/50\n",
            "7/7 [==============================] - 0s 34ms/step - loss: 0.9394 - accuracy: 1.0000\n",
            "Epoch 30/50\n",
            "7/7 [==============================] - 0s 37ms/step - loss: 0.9357 - accuracy: 1.0000\n",
            "Epoch 31/50\n",
            "7/7 [==============================] - 0s 35ms/step - loss: 0.9321 - accuracy: 1.0000\n",
            "Epoch 32/50\n",
            "7/7 [==============================] - 0s 59ms/step - loss: 0.9284 - accuracy: 1.0000\n",
            "Epoch 33/50\n",
            "7/7 [==============================] - 0s 60ms/step - loss: 0.9248 - accuracy: 1.0000\n",
            "Epoch 34/50\n",
            "7/7 [==============================] - 0s 59ms/step - loss: 0.9212 - accuracy: 1.0000\n",
            "Epoch 35/50\n",
            "7/7 [==============================] - 0s 64ms/step - loss: 0.9176 - accuracy: 1.0000\n",
            "Epoch 36/50\n",
            "7/7 [==============================] - 0s 65ms/step - loss: 0.9140 - accuracy: 1.0000\n",
            "Epoch 37/50\n",
            "7/7 [==============================] - 0s 65ms/step - loss: 0.9104 - accuracy: 1.0000\n",
            "Epoch 38/50\n",
            "7/7 [==============================] - 0s 62ms/step - loss: 0.9069 - accuracy: 1.0000\n",
            "Epoch 39/50\n",
            "7/7 [==============================] - 1s 75ms/step - loss: 0.9033 - accuracy: 1.0000\n",
            "Epoch 40/50\n",
            "7/7 [==============================] - 0s 64ms/step - loss: 0.8998 - accuracy: 1.0000\n",
            "Epoch 41/50\n",
            "7/7 [==============================] - 0s 69ms/step - loss: 0.8963 - accuracy: 1.0000\n",
            "Epoch 42/50\n",
            "7/7 [==============================] - 0s 57ms/step - loss: 0.8928 - accuracy: 1.0000\n",
            "Epoch 43/50\n",
            "7/7 [==============================] - 0s 36ms/step - loss: 0.8893 - accuracy: 1.0000\n",
            "Epoch 44/50\n",
            "7/7 [==============================] - 0s 36ms/step - loss: 0.8858 - accuracy: 1.0000\n",
            "Epoch 45/50\n",
            "7/7 [==============================] - 0s 35ms/step - loss: 0.8824 - accuracy: 1.0000\n",
            "Epoch 46/50\n",
            "7/7 [==============================] - 0s 34ms/step - loss: 0.8789 - accuracy: 1.0000\n",
            "Epoch 47/50\n",
            "7/7 [==============================] - 0s 37ms/step - loss: 0.8755 - accuracy: 1.0000\n",
            "Epoch 48/50\n",
            "7/7 [==============================] - 0s 37ms/step - loss: 0.8721 - accuracy: 1.0000\n",
            "Epoch 49/50\n",
            "7/7 [==============================] - 0s 36ms/step - loss: 0.8687 - accuracy: 1.0000\n",
            "Epoch 50/50\n",
            "7/7 [==============================] - 0s 35ms/step - loss: 0.8653 - accuracy: 1.0000\n"
          ]
        },
        {
          "output_type": "execute_result",
          "data": {
            "text/plain": [
              "<keras.callbacks.History at 0x7f74d38e6a10>"
            ]
          },
          "metadata": {},
          "execution_count": 55
        }
      ]
    },
    {
      "cell_type": "code",
      "source": [
        "test_loss, test_acc = model.evaluate(X_test, y_test)"
      ],
      "metadata": {
        "colab": {
          "base_uri": "https://localhost:8080/"
        },
        "id": "EMvnTg7r5aMs",
        "outputId": "29a358ff-423c-44f5-91ba-b08029b5e570"
      },
      "execution_count": 56,
      "outputs": [
        {
          "output_type": "stream",
          "name": "stdout",
          "text": [
            "3/3 [==============================] - 0s 13ms/step - loss: 11.3812 - accuracy: 0.6354\n"
          ]
        }
      ]
    },
    {
      "cell_type": "code",
      "source": [
        "history = model.fit(X_train, y_train, epochs=15, validation_data=(X_test, y_test))\n",
        "\n",
        "# Plot the accuracy graph\n",
        "plt.plot(history.history['accuracy'], label='accuracy')\n",
        "plt.plot(history.history['val_accuracy'], label='val_accuracy')\n",
        "plt.xlabel('Epoch')\n",
        "plt.ylabel('Accuracy')\n",
        "plt.legend(loc='upper right')\n",
        "plt.show()"
      ],
      "metadata": {
        "colab": {
          "base_uri": "https://localhost:8080/",
          "height": 970
        },
        "id": "DlxUAisBogJp",
        "outputId": "ac2351aa-7338-43a6-fe1c-f5f573231296"
      },
      "execution_count": 57,
      "outputs": [
        {
          "output_type": "stream",
          "name": "stdout",
          "text": [
            "Epoch 1/15\n",
            "7/7 [==============================] - 2s 246ms/step - loss: 0.8619 - accuracy: 1.0000 - val_loss: 11.3784 - val_accuracy: 0.6354\n",
            "Epoch 2/15\n",
            "7/7 [==============================] - 1s 97ms/step - loss: 0.8585 - accuracy: 1.0000 - val_loss: 11.3760 - val_accuracy: 0.6354\n",
            "Epoch 3/15\n",
            "7/7 [==============================] - 0s 67ms/step - loss: 0.8552 - accuracy: 1.0000 - val_loss: 11.3681 - val_accuracy: 0.6354\n",
            "Epoch 4/15\n",
            "7/7 [==============================] - 0s 43ms/step - loss: 0.8518 - accuracy: 1.0000 - val_loss: 11.3621 - val_accuracy: 0.6354\n",
            "Epoch 5/15\n",
            "7/7 [==============================] - 0s 44ms/step - loss: 0.8485 - accuracy: 1.0000 - val_loss: 11.3554 - val_accuracy: 0.6354\n",
            "Epoch 6/15\n",
            "7/7 [==============================] - 0s 48ms/step - loss: 0.8452 - accuracy: 1.0000 - val_loss: 11.3500 - val_accuracy: 0.6354\n",
            "Epoch 7/15\n",
            "7/7 [==============================] - 0s 48ms/step - loss: 0.8419 - accuracy: 1.0000 - val_loss: 11.3481 - val_accuracy: 0.6354\n",
            "Epoch 8/15\n",
            "7/7 [==============================] - 0s 43ms/step - loss: 0.8387 - accuracy: 1.0000 - val_loss: 11.3426 - val_accuracy: 0.6354\n",
            "Epoch 9/15\n",
            "7/7 [==============================] - 0s 48ms/step - loss: 0.8354 - accuracy: 1.0000 - val_loss: 11.3378 - val_accuracy: 0.6354\n",
            "Epoch 10/15\n",
            "7/7 [==============================] - 0s 47ms/step - loss: 0.8322 - accuracy: 1.0000 - val_loss: 11.3340 - val_accuracy: 0.6354\n",
            "Epoch 11/15\n",
            "7/7 [==============================] - 0s 43ms/step - loss: 0.8289 - accuracy: 1.0000 - val_loss: 11.3290 - val_accuracy: 0.6354\n",
            "Epoch 12/15\n",
            "7/7 [==============================] - 0s 40ms/step - loss: 0.8257 - accuracy: 1.0000 - val_loss: 11.3254 - val_accuracy: 0.6354\n",
            "Epoch 13/15\n",
            "7/7 [==============================] - 0s 49ms/step - loss: 0.8225 - accuracy: 1.0000 - val_loss: 11.3227 - val_accuracy: 0.6354\n",
            "Epoch 14/15\n",
            "7/7 [==============================] - 0s 44ms/step - loss: 0.8193 - accuracy: 1.0000 - val_loss: 11.3161 - val_accuracy: 0.6354\n",
            "Epoch 15/15\n",
            "7/7 [==============================] - 0s 46ms/step - loss: 0.8161 - accuracy: 1.0000 - val_loss: 11.3106 - val_accuracy: 0.6354\n"
          ]
        },
        {
          "output_type": "display_data",
          "data": {
            "text/plain": [
              "<Figure size 640x480 with 1 Axes>"
            ],
            "image/png": "[encoded data removed]"
          },
          "metadata": {}
        }
      ]
    }
  ]
}